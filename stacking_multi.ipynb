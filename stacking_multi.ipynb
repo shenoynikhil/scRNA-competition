{
 "cells": [
  {
   "cell_type": "code",
   "execution_count": 27,
   "id": "2ecc719d",
   "metadata": {},
   "outputs": [],
   "source": [
    "import os\n",
    "import gc\n",
    "import pickle\n",
    "import numpy as np\n",
    "import scipy\n",
    "from tqdm import tqdm\n",
    "from datetime import datetime\n",
    "from utils import correlation_score"
   ]
  },
  {
   "cell_type": "code",
   "execution_count": 28,
   "id": "856d22b0",
   "metadata": {},
   "outputs": [],
   "source": [
    "base_path = 'output/tabnet-multiome-imp-kfold/13_10_2022-15_19/'\n",
    "model_paths = [\n",
    "    'model_0th_fold.pkl',\n",
    "    'model_1th_fold.pkl',\n",
    "    'model_2th_fold.pkl',\n",
    "    'model_3th_fold.pkl',\n",
    "    'model_4th_fold.pkl',    \n",
    "]\n",
    "\n",
    "pca_path = 'output/tabnet-multiome-imp-kfold/13_10_2022-15_19/pca_y.pkl'\n",
    "x_path = '/scratch/st-jiaruid-1/shenoy/svd-comp/train_input_multiome_svd128.pkl'\n",
    "y_path = '/arc/project/st-jiaruid-1/yinian/multiome/sparse-data/train_multi_targets_values.sparse.npz'\n",
    "x_cols_path = '/arc/project/st-jiaruid-1/yinian/multiome/sparse-data/train_multi_targets_idxcol.npz'\n",
    "val_set_indices_path = '/arc/project/st-jiaruid-1/yinian/multiome/multi_val_set_10000_0.75_day_7.npy'"
   ]
  },
  {
   "cell_type": "markdown",
   "id": "85741a98",
   "metadata": {},
   "source": [
    "#### Load PCA"
   ]
  },
  {
   "cell_type": "code",
   "execution_count": 3,
   "id": "a23b4654",
   "metadata": {},
   "outputs": [],
   "source": [
    "# load pca\n",
    "with open(pca_path, 'rb') as f:\n",
    "    pca_y = pickle.load(f)"
   ]
  },
  {
   "cell_type": "code",
   "execution_count": 4,
   "id": "ccc8ed67",
   "metadata": {},
   "outputs": [],
   "source": [
    "# load x features\n",
    "with open(x_path, 'rb') as f:\n",
    "    x = pickle.load(f)\n",
    "    \n",
    "y = scipy.sparse.load_npz(y_path).toarray()\n",
    "    \n",
    "x_cols = np.load(x_cols_path, allow_pickle=True)[\"index\"].tolist()"
   ]
  },
  {
   "cell_type": "code",
   "execution_count": 5,
   "id": "302b8eed",
   "metadata": {},
   "outputs": [],
   "source": [
    "val_indices = set(np.load(val_set_indices_path).tolist())"
   ]
  },
  {
   "cell_type": "code",
   "execution_count": 6,
   "id": "381e4e91",
   "metadata": {},
   "outputs": [],
   "source": [
    "indices_to_use = [i for i, x in enumerate(x_cols) if x in val_indices]"
   ]
  },
  {
   "cell_type": "code",
   "execution_count": 7,
   "id": "7cf0ed92",
   "metadata": {},
   "outputs": [],
   "source": [
    "x_pred = x[indices_to_use, :]\n",
    "y_true = y[indices_to_use, :]"
   ]
  },
  {
   "cell_type": "code",
   "execution_count": 8,
   "id": "deca0880",
   "metadata": {},
   "outputs": [],
   "source": [
    "del x, y, x_cols, val_indices, indices_to_use"
   ]
  },
  {
   "cell_type": "code",
   "execution_count": 9,
   "id": "01755ce5",
   "metadata": {},
   "outputs": [
    {
     "name": "stderr",
     "output_type": "stream",
     "text": [
      "  0%|          | 0/5 [00:00<?, ?it/s]Error in cpuinfo: failed to parse processor information from /proc/cpuinfo\n",
      "100%|██████████| 5/5 [00:18<00:00,  3.61s/it]\n"
     ]
    }
   ],
   "source": [
    "predictions = []\n",
    "for path in tqdm(model_paths):\n",
    "    # load model\n",
    "    with open(os.path.join(base_path, path), 'rb') as f:\n",
    "        model = pickle.load(f)\n",
    "    \n",
    "    # store predictions\n",
    "    predictions.append(model.predict(x_pred) @ pca_y.components_)"
   ]
  },
  {
   "cell_type": "code",
   "execution_count": 10,
   "id": "cfa559a2",
   "metadata": {},
   "outputs": [],
   "source": [
    "del model"
   ]
  },
  {
   "cell_type": "code",
   "execution_count": 11,
   "id": "f3995a4f",
   "metadata": {},
   "outputs": [
    {
     "data": {
      "text/plain": [
       "23321"
      ]
     },
     "execution_count": 11,
     "metadata": {},
     "output_type": "execute_result"
    }
   ],
   "source": [
    "gc.collect()"
   ]
  },
  {
   "cell_type": "code",
   "execution_count": 12,
   "id": "9d694790",
   "metadata": {},
   "outputs": [],
   "source": [
    "predictions = np.stack(predictions)"
   ]
  },
  {
   "cell_type": "markdown",
   "id": "f6fa9ead",
   "metadata": {},
   "source": [
    "#### Prepare Stacking Model"
   ]
  },
  {
   "cell_type": "code",
   "execution_count": 15,
   "id": "679635ae",
   "metadata": {},
   "outputs": [],
   "source": [
    "from functools import partial\n",
    "from scipy.optimize import fmin\n",
    "from sklearn.model_selection import KFold\n",
    "\n",
    "# using https://www.youtube.com/watch?v=TuIgtitqJho\n",
    "class OptimizePCC:\n",
    "    def __init__(self):\n",
    "        self.coef_ = 0\n",
    "        \n",
    "    def _pcc(self, coef, X, y):\n",
    "        coef = np.reshape(coef, (coef.shape[0], 1, 1))\n",
    "        x_coef = X * coef\n",
    "        predictions = np.sum(x_coef, axis=0)\n",
    "        pcc = correlation_score(y, predictions)\n",
    "        return -1.0 * pcc\n",
    "    \n",
    "    def fit(self, X, y):\n",
    "        partial_loss = partial(self._pcc, X=X, y=y)\n",
    "        init_coef = np.random.dirichlet(np.ones(X.shape[0]))\n",
    "        self.coef_ = fmin(partial_loss, init_coef, disp=True)\n",
    "    \n",
    "    def predict(self, X):\n",
    "        coef = self.coef_\n",
    "        coef = np.reshape(coef, (coef.shape[0], 1, 1))\n",
    "        x_coef = X * coef\n",
    "        return np.sum(x_coef, axis=0)"
   ]
  },
  {
   "cell_type": "code",
   "execution_count": 16,
   "id": "37bf3606",
   "metadata": {},
   "outputs": [],
   "source": [
    "kf = KFold(n_splits=5, shuffle=True, random_state=42)"
   ]
  },
  {
   "cell_type": "code",
   "execution_count": null,
   "id": "af20fdb9",
   "metadata": {},
   "outputs": [
    {
     "name": "stdout",
     "output_type": "stream",
     "text": [
      "Optimization terminated successfully.\n",
      "         Current function value: -0.629264\n",
      "         Iterations: 157\n",
      "         Function evaluations: 253\n",
      "For fold: 0, score: 0.6292158462063026\n",
      "Optimization terminated successfully.\n",
      "         Current function value: -0.629184\n",
      "         Iterations: 120\n",
      "         Function evaluations: 197\n",
      "For fold: 1, score: 0.6295361785417961\n",
      "Optimization terminated successfully.\n",
      "         Current function value: -0.629517\n",
      "         Iterations: 155\n",
      "         Function evaluations: 262\n",
      "For fold: 2, score: 0.628204269324357\n",
      "Optimization terminated successfully.\n",
      "         Current function value: -0.629181\n",
      "         Iterations: 130\n",
      "         Function evaluations: 224\n",
      "For fold: 3, score: 0.6295469234727231\n"
     ]
    }
   ],
   "source": [
    "coeffs = []\n",
    "for i, (tr_indices, val_indices) in enumerate(kf.split(list(range(y_true.shape[0])))):\n",
    "    # get x_train and y_train\n",
    "    x_train, y_train = predictions[:, tr_indices, :], y_true[tr_indices, :]\n",
    "    x_val, y_val = predictions[:, val_indices, :], y_true[val_indices, :]\n",
    "    \n",
    "    # opt\n",
    "    opt = OptimizePCC()\n",
    "    opt.fit(x_train, y_train)\n",
    "    \n",
    "    # check score\n",
    "    score = correlation_score(y_val, opt.predict(x_val))\n",
    "    print (f'For fold: {i}, score: {score}')\n",
    "    \n",
    "    # store coeff\n",
    "    coeffs.append(opt.coef_)"
   ]
  },
  {
   "cell_type": "code",
   "execution_count": 23,
   "id": "22d6524e",
   "metadata": {},
   "outputs": [
    {
     "ename": "NameError",
     "evalue": "name 'x_train' is not defined",
     "output_type": "error",
     "traceback": [
      "\u001b[0;31m---------------------------------------------------------------------------\u001b[0m",
      "\u001b[0;31mNameError\u001b[0m                                 Traceback (most recent call last)",
      "Cell \u001b[0;32mIn [23], line 1\u001b[0m\n\u001b[0;32m----> 1\u001b[0m \u001b[38;5;28;01mdel\u001b[39;00m x_train, y_train, x_val, y_val, opt, tr_indices, val_indices\n\u001b[1;32m      2\u001b[0m gc\u001b[38;5;241m.\u001b[39mcollect()\n",
      "\u001b[0;31mNameError\u001b[0m: name 'x_train' is not defined"
     ]
    }
   ],
   "source": [
    "del x_train, y_train, x_val, y_val, opt, tr_indices, val_indices\n",
    "gc.collect()"
   ]
  },
  {
   "cell_type": "markdown",
   "id": "ebdf8e6d",
   "metadata": {},
   "source": [
    "##### x_test prediction"
   ]
  },
  {
   "cell_type": "code",
   "execution_count": 24,
   "id": "c8dcfcfb",
   "metadata": {},
   "outputs": [
    {
     "name": "stdout",
     "output_type": "stream",
     "text": [
      "[0.13140964 0.18514668 0.11103691 0.00675475 0.12466054]\n"
     ]
    }
   ],
   "source": [
    "final_coeffs = np.mean(coeffs, 0)\n",
    "print (final_coeffs)"
   ]
  },
  {
   "cell_type": "code",
   "execution_count": 25,
   "id": "114a3237",
   "metadata": {},
   "outputs": [],
   "source": [
    "x_test_path = '/scratch/st-jiaruid-1/shenoy/svd-comp/test_input_multiome_svd128.pkl'\n",
    "with open(x_test_path, 'rb') as f:\n",
    "    x_test = pickle.load(f)"
   ]
  },
  {
   "cell_type": "code",
   "execution_count": 30,
   "id": "200a014f",
   "metadata": {},
   "outputs": [
    {
     "name": "stderr",
     "output_type": "stream",
     "text": [
      "100%|██████████| 5/5 [01:39<00:00, 19.81s/it]\n"
     ]
    }
   ],
   "source": [
    "test_predictions = []\n",
    "for path in tqdm(model_paths):\n",
    "    # load model\n",
    "    with open(os.path.join(base_path, path), 'rb') as f:\n",
    "        model = pickle.load(f)\n",
    "    \n",
    "    # store predictions\n",
    "    test_predictions.append(model.predict(x_test) @ pca_y.components_)"
   ]
  },
  {
   "cell_type": "code",
   "execution_count": 31,
   "id": "5208adc7",
   "metadata": {},
   "outputs": [],
   "source": [
    "test_predictions = np.stack(test_predictions)\n",
    "final_coeffs = np.reshape(final_coeffs, (final_coeffs.shape[0], 1, 1))\n",
    "test_predictions = final_coeffs * test_predictions\n",
    "test_predictions = np.sum(test_predictions, 0)"
   ]
  },
  {
   "cell_type": "code",
   "execution_count": 32,
   "id": "328ad257",
   "metadata": {},
   "outputs": [],
   "source": [
    "pkl_filename = os.path.join(base_path, 'ensembled_test_pred.pkl')\n",
    "with open(pkl_filename, \"wb\") as file:\n",
    "    pickle.dump(test_predictions, file)"
   ]
  },
  {
   "cell_type": "code",
   "execution_count": null,
   "id": "b37759ce",
   "metadata": {},
   "outputs": [],
   "source": []
  }
 ],
 "metadata": {
  "kernelspec": {
   "display_name": "gpu",
   "language": "python",
   "name": "gpu"
  },
  "language_info": {
   "codemirror_mode": {
    "name": "ipython",
    "version": 3
   },
   "file_extension": ".py",
   "mimetype": "text/x-python",
   "name": "python",
   "nbconvert_exporter": "python",
   "pygments_lexer": "ipython3",
   "version": "3.9.13"
  }
 },
 "nbformat": 4,
 "nbformat_minor": 5
}
