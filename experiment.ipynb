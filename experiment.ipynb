{
 "cells": [
  {
   "cell_type": "code",
   "execution_count": 1,
   "id": "16353888",
   "metadata": {},
   "outputs": [],
   "source": [
    "import yaml\n",
    "from pathlib import Path"
   ]
  },
  {
   "cell_type": "code",
   "execution_count": 2,
   "id": "ee95f7af",
   "metadata": {},
   "outputs": [],
   "source": [
    "path = 'experiments/dnn-exps/basenet-cite-rcv.yaml'\n",
    "config = yaml.safe_load(Path(path).open())"
   ]
  },
  {
   "cell_type": "code",
   "execution_count": 3,
   "id": "c1e20271",
   "metadata": {},
   "outputs": [
    {
     "name": "stderr",
     "output_type": "stream",
     "text": [
      "Matplotlib created a temporary config/cache directory at /scratch/st-jiaruid-1/shenoy/projects/scRNA-competition/matplotlib-vjyafx7a because the default path (/home/jovyan/.cache/matplotlib) is not a writable directory; it is highly recommended to set the MPLCONFIGDIR environment variable to a writable directory, in particular to speed up the import of Matplotlib and to better support multiprocessing.\n",
      "/arc/project/st-jiaruid-1/yinian/tensorflow-gpu/lib/python3.9/site-packages/tqdm/auto.py:22: TqdmWarning: IProgress not found. Please update jupyter and ipywidgets. See https://ipywidgets.readthedocs.io/en/stable/user_install.html\n",
      "  from .autonotebook import tqdm as notebook_tqdm\n",
      "Error in cpuinfo: failed to parse processor information from /proc/cpuinfo\n"
     ]
    }
   ],
   "source": [
    "from run import main"
   ]
  },
  {
   "cell_type": "code",
   "execution_count": 4,
   "id": "944760e8",
   "metadata": {},
   "outputs": [],
   "source": [
    "config['trainer_config'] = {\n",
    "    'max_epochs': 1\n",
    "}"
   ]
  },
  {
   "cell_type": "code",
   "execution_count": 5,
   "id": "3830af58",
   "metadata": {},
   "outputs": [
    {
     "name": "stderr",
     "output_type": "stream",
     "text": [
      "GPU available: False, used: False\n",
      "TPU available: False, using: 0 TPU cores\n",
      "IPU available: False, using: 0 IPUs\n",
      "HPU available: False, using: 0 HPUs\n",
      "\n",
      "  | Name | Type             | Params\n",
      "------------------------------------------\n",
      "0 | net  | Sequential       | 739 K \n",
      "1 | loss | CorrCoeffMSELoss | 0     \n",
      "------------------------------------------\n",
      "739 K     Trainable params\n",
      "0         Non-trainable params\n",
      "739 K     Total params\n",
      "2.957     Total estimated model params size (MB)\n"
     ]
    },
    {
     "name": "stdout",
     "output_type": "stream",
     "text": [
      "Epoch 0:   0%|          | 0/555 [00:00<?, ?it/s] \n",
      "Validation: 0it [00:00, ?it/s]\u001b[A\n",
      "Validation:   0%|          | 0/111 [00:00<?, ?it/s]\u001b[A\n",
      "Validation DataLoader 0:   0%|          | 0/111 [00:00<?, ?it/s]\u001b[A\n",
      "Epoch 0: 100%|██████████| 555/555 [00:06<00:00, 86.36it/s, loss=2.69, val/pcc=0.875]\n",
      "Epoch 0: 100%|██████████| 555/555 [00:06<00:00, 84.70it/s, loss=2.69, val/pcc=0.875, train/pcc=0.859]"
     ]
    },
    {
     "name": "stderr",
     "output_type": "stream",
     "text": [
      "`Trainer.fit` stopped: `max_epochs=1` reached.\n"
     ]
    },
    {
     "name": "stdout",
     "output_type": "stream",
     "text": [
      "Epoch 0: 100%|██████████| 555/555 [00:06<00:00, 84.30it/s, loss=2.69, val/pcc=0.875, train/pcc=0.859]\n"
     ]
    },
    {
     "name": "stderr",
     "output_type": "stream",
     "text": [
      "GPU available: False, used: False\n",
      "TPU available: False, using: 0 TPU cores\n",
      "IPU available: False, using: 0 IPUs\n",
      "HPU available: False, using: 0 HPUs\n",
      "\n",
      "  | Name | Type             | Params\n",
      "------------------------------------------\n",
      "0 | net  | Sequential       | 739 K \n",
      "1 | loss | CorrCoeffMSELoss | 0     \n",
      "------------------------------------------\n",
      "739 K     Trainable params\n",
      "0         Non-trainable params\n",
      "739 K     Total params\n",
      "2.957     Total estimated model params size (MB)\n"
     ]
    },
    {
     "name": "stdout",
     "output_type": "stream",
     "text": [
      "Epoch 0:   0%|          | 0/555 [00:00<?, ?it/s] \n",
      "Validation: 0it [00:00, ?it/s]\u001b[A\n",
      "Validation:   0%|          | 0/111 [00:00<?, ?it/s]\u001b[A\n",
      "Validation DataLoader 0:   0%|          | 0/111 [00:00<?, ?it/s]\u001b[A\n",
      "Epoch 0: 100%|██████████| 555/555 [00:06<00:00, 84.97it/s, loss=2.76, val/pcc=0.875]\n",
      "Epoch 0: 100%|██████████| 555/555 [00:06<00:00, 83.51it/s, loss=2.76, val/pcc=0.875, train/pcc=0.856]"
     ]
    },
    {
     "name": "stderr",
     "output_type": "stream",
     "text": [
      "`Trainer.fit` stopped: `max_epochs=1` reached.\n"
     ]
    },
    {
     "name": "stdout",
     "output_type": "stream",
     "text": [
      "Epoch 0: 100%|██████████| 555/555 [00:06<00:00, 82.82it/s, loss=2.76, val/pcc=0.875, train/pcc=0.856]\n"
     ]
    },
    {
     "name": "stderr",
     "output_type": "stream",
     "text": [
      "GPU available: False, used: False\n",
      "TPU available: False, using: 0 TPU cores\n",
      "IPU available: False, using: 0 IPUs\n",
      "HPU available: False, using: 0 HPUs\n",
      "\n",
      "  | Name | Type             | Params\n",
      "------------------------------------------\n",
      "0 | net  | Sequential       | 739 K \n",
      "1 | loss | CorrCoeffMSELoss | 0     \n",
      "------------------------------------------\n",
      "739 K     Trainable params\n",
      "0         Non-trainable params\n",
      "739 K     Total params\n",
      "2.957     Total estimated model params size (MB)\n"
     ]
    },
    {
     "name": "stdout",
     "output_type": "stream",
     "text": [
      "Epoch 0:   0%|          | 0/555 [00:00<?, ?it/s] \n",
      "Validation: 0it [00:00, ?it/s]\u001b[A\n",
      "Validation:   0%|          | 0/111 [00:00<?, ?it/s]\u001b[A\n",
      "Validation DataLoader 0:   0%|          | 0/111 [00:00<?, ?it/s]\u001b[A\n",
      "Epoch 0: 100%|██████████| 555/555 [00:06<00:00, 84.60it/s, loss=2.67, val/pcc=0.875]\n",
      "Epoch 0: 100%|██████████| 555/555 [00:06<00:00, 83.25it/s, loss=2.67, val/pcc=0.875, train/pcc=0.859]"
     ]
    },
    {
     "name": "stderr",
     "output_type": "stream",
     "text": [
      "`Trainer.fit` stopped: `max_epochs=1` reached.\n"
     ]
    },
    {
     "name": "stdout",
     "output_type": "stream",
     "text": [
      "Epoch 0: 100%|██████████| 555/555 [00:06<00:00, 82.76it/s, loss=2.67, val/pcc=0.875, train/pcc=0.859]\n"
     ]
    },
    {
     "name": "stderr",
     "output_type": "stream",
     "text": [
      "GPU available: False, used: False\n",
      "TPU available: False, using: 0 TPU cores\n",
      "IPU available: False, using: 0 IPUs\n",
      "HPU available: False, using: 0 HPUs\n",
      "\n",
      "  | Name | Type             | Params\n",
      "------------------------------------------\n",
      "0 | net  | Sequential       | 739 K \n",
      "1 | loss | CorrCoeffMSELoss | 0     \n",
      "------------------------------------------\n",
      "739 K     Trainable params\n",
      "0         Non-trainable params\n",
      "739 K     Total params\n",
      "2.957     Total estimated model params size (MB)\n"
     ]
    },
    {
     "name": "stdout",
     "output_type": "stream",
     "text": [
      "Epoch 0:   0%|          | 0/555 [00:00<?, ?it/s] \n",
      "Validation: 0it [00:00, ?it/s]\u001b[A\n",
      "Validation:   0%|          | 0/111 [00:00<?, ?it/s]\u001b[A\n",
      "Validation DataLoader 0:   0%|          | 0/111 [00:00<?, ?it/s]\u001b[A\n",
      "Epoch 0: 100%|██████████| 555/555 [00:06<00:00, 85.48it/s, loss=2.74, val/pcc=0.875]\n",
      "Epoch 0: 100%|██████████| 555/555 [00:06<00:00, 84.04it/s, loss=2.74, val/pcc=0.875, train/pcc=0.859]"
     ]
    },
    {
     "name": "stderr",
     "output_type": "stream",
     "text": [
      "`Trainer.fit` stopped: `max_epochs=1` reached.\n"
     ]
    },
    {
     "name": "stdout",
     "output_type": "stream",
     "text": [
      "Epoch 0: 100%|██████████| 555/555 [00:06<00:00, 83.53it/s, loss=2.74, val/pcc=0.875, train/pcc=0.859]\n"
     ]
    },
    {
     "name": "stderr",
     "output_type": "stream",
     "text": [
      "GPU available: False, used: False\n",
      "TPU available: False, using: 0 TPU cores\n",
      "IPU available: False, using: 0 IPUs\n",
      "HPU available: False, using: 0 HPUs\n",
      "\n",
      "  | Name | Type             | Params\n",
      "------------------------------------------\n",
      "0 | net  | Sequential       | 739 K \n",
      "1 | loss | CorrCoeffMSELoss | 0     \n",
      "------------------------------------------\n",
      "739 K     Trainable params\n",
      "0         Non-trainable params\n",
      "739 K     Total params\n",
      "2.957     Total estimated model params size (MB)\n"
     ]
    },
    {
     "name": "stdout",
     "output_type": "stream",
     "text": [
      "Epoch 0:   0%|          | 0/555 [00:00<?, ?it/s] \n",
      "Validation: 0it [00:00, ?it/s]\u001b[A\n",
      "Validation:   0%|          | 0/111 [00:00<?, ?it/s]\u001b[A\n",
      "Validation DataLoader 0:   0%|          | 0/111 [00:00<?, ?it/s]\u001b[A\n",
      "Epoch 0: 100%|██████████| 555/555 [00:06<00:00, 85.66it/s, loss=2.69, val/pcc=0.874]\n",
      "Epoch 0: 100%|██████████| 555/555 [00:06<00:00, 84.26it/s, loss=2.69, val/pcc=0.874, train/pcc=0.859]"
     ]
    },
    {
     "name": "stderr",
     "output_type": "stream",
     "text": [
      "`Trainer.fit` stopped: `max_epochs=1` reached.\n"
     ]
    },
    {
     "name": "stdout",
     "output_type": "stream",
     "text": [
      "Epoch 0: 100%|██████████| 555/555 [00:06<00:00, 83.72it/s, loss=2.69, val/pcc=0.874, train/pcc=0.859]\n"
     ]
    }
   ],
   "source": [
    "main(config)"
   ]
  },
  {
   "cell_type": "code",
   "execution_count": null,
   "id": "366cc3a7",
   "metadata": {},
   "outputs": [],
   "source": []
  }
 ],
 "metadata": {
  "kernelspec": {
   "display_name": "gpu",
   "language": "python",
   "name": "gpu"
  },
  "language_info": {
   "codemirror_mode": {
    "name": "ipython",
    "version": 3
   },
   "file_extension": ".py",
   "mimetype": "text/x-python",
   "name": "python",
   "nbconvert_exporter": "python",
   "pygments_lexer": "ipython3",
   "version": "3.9.13"
  }
 },
 "nbformat": 4,
 "nbformat_minor": 5
}
