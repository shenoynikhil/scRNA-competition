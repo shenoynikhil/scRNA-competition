{
 "cells": [
  {
   "cell_type": "code",
   "execution_count": 1,
   "id": "91740d11",
   "metadata": {},
   "outputs": [],
   "source": [
    "import argparse\n",
    "import gc\n",
    "import numpy as np\n",
    "import logging\n",
    "import pickle\n",
    "from datetime import datetime\n",
    "from os import makedirs\n",
    "from os.path import join\n",
    "from pathlib import Path\n",
    "\n",
    "import yaml\n",
    "from scipy.sparse import load_npz\n",
    "import scipy\n",
    "from sklearn.decomposition import TruncatedSVD\n",
    "\n",
    "seed = 42\n",
    "SAVE_DIR = \"/scratch/st-jiaruid-1/shenoy/svd-comp/\""
   ]
  },
  {
   "cell_type": "code",
   "execution_count": 3,
   "id": "d53c4f2e",
   "metadata": {},
   "outputs": [],
   "source": [
    "paths = {\n",
    "    'multiome': \n",
    "    {\n",
    "      'x': '/arc/project/st-jiaruid-1/yinian/multiome/sparse-data/train_multi_inputs_values.sparse.npz',\n",
    "      'y': '/arc/project/st-jiaruid-1/yinian/multiome/sparse-data/train_multi_targets_values.sparse.npz',\n",
    "      'x_test': '/arc/project/st-jiaruid-1/yinian/multiome/sparse-data/test_multi_inputs_values.sparse.npz        '\n",
    "    },\n",
    "    'cite':\n",
    "    {\n",
    "      'x': '/arc/project/st-jiaruid-1/yinian/multiome/sparse-data/train_cite_inputs_values.sparse.npz',\n",
    "      'y': '/arc/project/st-jiaruid-1/yinian/multiome/sparse-data/train_cite_targets_values.sparse.npz',\n",
    "      'x_test': '/arc/project/st-jiaruid-1/yinian/multiome/sparse-data/test_cite_inputs_values.sparse.npz'\n",
    "    }\n",
    "}"
   ]
  },
  {
   "cell_type": "code",
   "execution_count": 4,
   "id": "f28a71b1",
   "metadata": {},
   "outputs": [],
   "source": [
    "modality = 'multiome'"
   ]
  },
  {
   "cell_type": "code",
   "execution_count": 5,
   "id": "201b6c5a",
   "metadata": {},
   "outputs": [
    {
     "ename": "FileNotFoundError",
     "evalue": "[Errno 2] No such file or directory: '/arc/project/st-jiaruid-1/yinian/multiome/sparse-data/test_multi_inputs_values.sparse.npz        '",
     "output_type": "error",
     "traceback": [
      "\u001b[0;31m---------------------------------------------------------------------------\u001b[0m",
      "\u001b[0;31mFileNotFoundError\u001b[0m                         Traceback (most recent call last)",
      "Cell \u001b[0;32mIn [5], line 3\u001b[0m\n\u001b[1;32m      1\u001b[0m \u001b[38;5;66;03m# Load Data\u001b[39;00m\n\u001b[1;32m      2\u001b[0m x \u001b[38;5;241m=\u001b[39m load_npz(paths[modality][\u001b[38;5;124m\"\u001b[39m\u001b[38;5;124mx\u001b[39m\u001b[38;5;124m\"\u001b[39m])\n\u001b[0;32m----> 3\u001b[0m x_test \u001b[38;5;241m=\u001b[39m load_npz(paths[modality][\u001b[38;5;124m\"\u001b[39m\u001b[38;5;124mx_test\u001b[39m\u001b[38;5;124m\"\u001b[39m])\n",
      "File \u001b[0;32m/arc/project/st-jiaruid-1/yinian/tensorflow-gpu/lib/python3.9/site-packages/scipy/sparse/_matrix_io.py:123\u001b[0m, in \u001b[0;36mload_npz\u001b[0;34m(file)\u001b[0m\n\u001b[1;32m     75\u001b[0m \u001b[38;5;28;01mdef\u001b[39;00m \u001b[38;5;21mload_npz\u001b[39m(file):\n\u001b[1;32m     76\u001b[0m     \u001b[38;5;124;03m\"\"\" Load a sparse matrix from a file using ``.npz`` format.\u001b[39;00m\n\u001b[1;32m     77\u001b[0m \n\u001b[1;32m     78\u001b[0m \u001b[38;5;124;03m    Parameters\u001b[39;00m\n\u001b[0;32m   (...)\u001b[0m\n\u001b[1;32m    120\u001b[0m \u001b[38;5;124;03m           [4, 0, 0]], dtype=int64)\u001b[39;00m\n\u001b[1;32m    121\u001b[0m \u001b[38;5;124;03m    \"\"\"\u001b[39;00m\n\u001b[0;32m--> 123\u001b[0m     \u001b[38;5;28;01mwith\u001b[39;00m \u001b[43mnp\u001b[49m\u001b[38;5;241;43m.\u001b[39;49m\u001b[43mload\u001b[49m\u001b[43m(\u001b[49m\u001b[43mfile\u001b[49m\u001b[43m,\u001b[49m\u001b[43m \u001b[49m\u001b[38;5;241;43m*\u001b[39;49m\u001b[38;5;241;43m*\u001b[39;49m\u001b[43mPICKLE_KWARGS\u001b[49m\u001b[43m)\u001b[49m \u001b[38;5;28;01mas\u001b[39;00m loaded:\n\u001b[1;32m    124\u001b[0m         \u001b[38;5;28;01mtry\u001b[39;00m:\n\u001b[1;32m    125\u001b[0m             matrix_format \u001b[38;5;241m=\u001b[39m loaded[\u001b[38;5;124m'\u001b[39m\u001b[38;5;124mformat\u001b[39m\u001b[38;5;124m'\u001b[39m]\n",
      "File \u001b[0;32m/arc/project/st-jiaruid-1/yinian/tensorflow-gpu/lib/python3.9/site-packages/numpy/lib/npyio.py:390\u001b[0m, in \u001b[0;36mload\u001b[0;34m(file, mmap_mode, allow_pickle, fix_imports, encoding)\u001b[0m\n\u001b[1;32m    388\u001b[0m     own_fid \u001b[38;5;241m=\u001b[39m \u001b[38;5;28;01mFalse\u001b[39;00m\n\u001b[1;32m    389\u001b[0m \u001b[38;5;28;01melse\u001b[39;00m:\n\u001b[0;32m--> 390\u001b[0m     fid \u001b[38;5;241m=\u001b[39m stack\u001b[38;5;241m.\u001b[39menter_context(\u001b[38;5;28;43mopen\u001b[39;49m\u001b[43m(\u001b[49m\u001b[43mos_fspath\u001b[49m\u001b[43m(\u001b[49m\u001b[43mfile\u001b[49m\u001b[43m)\u001b[49m\u001b[43m,\u001b[49m\u001b[43m \u001b[49m\u001b[38;5;124;43m\"\u001b[39;49m\u001b[38;5;124;43mrb\u001b[39;49m\u001b[38;5;124;43m\"\u001b[39;49m\u001b[43m)\u001b[49m)\n\u001b[1;32m    391\u001b[0m     own_fid \u001b[38;5;241m=\u001b[39m \u001b[38;5;28;01mTrue\u001b[39;00m\n\u001b[1;32m    393\u001b[0m \u001b[38;5;66;03m# Code to distinguish from NumPy binary files and pickles.\u001b[39;00m\n",
      "\u001b[0;31mFileNotFoundError\u001b[0m: [Errno 2] No such file or directory: '/arc/project/st-jiaruid-1/yinian/multiome/sparse-data/test_multi_inputs_values.sparse.npz        '"
     ]
    }
   ],
   "source": [
    "# Load Data\n",
    "x = load_npz(paths[modality][\"x\"])\n",
    "x_test = load_npz(paths[modality][\"x_test\"])"
   ]
  },
  {
   "cell_type": "markdown",
   "id": "fe5553e3",
   "metadata": {},
   "source": [
    "### Only keep `indices`"
   ]
  },
  {
   "cell_type": "code",
   "execution_count": null,
   "id": "62ea6e84",
   "metadata": {},
   "outputs": [],
   "source": [
    "x_stacked = scipy.sparse.vstack([x, x_test])"
   ]
  },
  {
   "cell_type": "code",
   "execution_count": null,
   "id": "5b11411e",
   "metadata": {},
   "outputs": [],
   "source": [
    "print (x_stacked.shape)"
   ]
  },
  {
   "cell_type": "code",
   "execution_count": null,
   "id": "536516b0",
   "metadata": {},
   "outputs": [],
   "source": [
    "feature_std = np.std(x_stacked.toarray(), axis=0)"
   ]
  },
  {
   "cell_type": "code",
   "execution_count": null,
   "id": "13500ab1",
   "metadata": {},
   "outputs": [],
   "source": [
    "threshold = 0.2\n",
    "indices = [i for i, x in enumerate(np.squeeze(feature_std)) if x > threshold]"
   ]
  },
  {
   "cell_type": "code",
   "execution_count": null,
   "id": "a1106d8e",
   "metadata": {},
   "outputs": [],
   "source": [
    "len(indices)"
   ]
  },
  {
   "cell_type": "code",
   "execution_count": null,
   "id": "eaae6e6d",
   "metadata": {},
   "outputs": [],
   "source": [
    "x_stacked_new = x_stacked[:, indices]"
   ]
  },
  {
   "cell_type": "code",
   "execution_count": null,
   "id": "fbc0242d",
   "metadata": {},
   "outputs": [],
   "source": [
    "print (x_stacked_new.shape)"
   ]
  },
  {
   "cell_type": "markdown",
   "id": "2e10f365",
   "metadata": {},
   "source": [
    "#### Perform PCA"
   ]
  },
  {
   "cell_type": "code",
   "execution_count": null,
   "id": "b6564eff",
   "metadata": {},
   "outputs": [],
   "source": [
    "comp = 200"
   ]
  },
  {
   "cell_type": "code",
   "execution_count": null,
   "id": "76db3da7",
   "metadata": {},
   "outputs": [],
   "source": [
    "# perform preprocessing\n",
    "# transform x and x_test\n",
    "pca_x = TruncatedSVD(\n",
    "    n_components=comp,\n",
    "    random_state=seed,\n",
    ")\n",
    "\n",
    "x_transformed = pca_x.fit_transform(x_stacked_new)"
   ]
  },
  {
   "cell_type": "code",
   "execution_count": 13,
   "id": "6bcc9008",
   "metadata": {},
   "outputs": [
    {
     "data": {
      "text/plain": [
       "0"
      ]
     },
     "execution_count": 13,
     "metadata": {},
     "output_type": "execute_result"
    }
   ],
   "source": [
    "x_train_transformed = x_transformed[: x.shape[0], :]\n",
    "x_test_transformed = x_transformed[x.shape[0] :, :]    \n",
    "del x, x_test\n",
    "gc.collect()"
   ]
  },
  {
   "cell_type": "code",
   "execution_count": 18,
   "id": "8995ba8f",
   "metadata": {},
   "outputs": [],
   "source": [
    "# save the processed arrays\n",
    "input_dim = comp\n",
    "input_type = modality\n",
    "pickle.dump(\n",
    "    x_train_transformed,\n",
    "    open(join(SAVE_DIR, f\"train_input_{input_type}_{input_dim}_mod.pkl\"), \"wb\"),\n",
    ")\n",
    "pickle.dump(\n",
    "    x_test_transformed,\n",
    "    open(join(SAVE_DIR, f\"test_input_{input_type}_svd{input_dim}_mod.pkl\"), \"wb\"),\n",
    ")"
   ]
  },
  {
   "cell_type": "code",
   "execution_count": null,
   "id": "383b63e8",
   "metadata": {},
   "outputs": [],
   "source": []
  }
 ],
 "metadata": {
  "kernelspec": {
   "display_name": "gpu",
   "language": "python",
   "name": "gpu"
  },
  "language_info": {
   "codemirror_mode": {
    "name": "ipython",
    "version": 3
   },
   "file_extension": ".py",
   "mimetype": "text/x-python",
   "name": "python",
   "nbconvert_exporter": "python",
   "pygments_lexer": "ipython3",
   "version": "3.9.13"
  }
 },
 "nbformat": 4,
 "nbformat_minor": 5
}
