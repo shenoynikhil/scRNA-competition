{
 "cells": [
  {
   "cell_type": "markdown",
   "id": "295fb845",
   "metadata": {},
   "source": [
    "### Modelling"
   ]
  },
  {
   "cell_type": "code",
   "execution_count": 1,
   "id": "be1e0ab8",
   "metadata": {},
   "outputs": [
    {
     "name": "stderr",
     "output_type": "stream",
     "text": [
      "/arc/project/st-jiaruid-1/yinian/tensorflow-gpu/lib/python3.9/site-packages/tqdm/auto.py:22: TqdmWarning: IProgress not found. Please update jupyter and ipywidgets. See https://ipywidgets.readthedocs.io/en/stable/user_install.html\n",
      "  from .autonotebook import tqdm as notebook_tqdm\n"
     ]
    }
   ],
   "source": [
    "import torch.nn as nn\n",
    "import pickle\n",
    "from scipy import sparse\n",
    "import torch.optim as optim\n",
    "import pytorch_lightning as pl\n",
    "import logging\n",
    "from torch.utils.data import TensorDataset, DataLoader\n",
    "from dnn import BaseNet\n",
    "from datamodule import DataModule\n",
    "\n",
    "from pytorch_lightning.trainer import Trainer\n",
    "from pytorch_lightning.callbacks import TQDMProgressBar, EarlyStopping\n",
    "from pytorch_lightning.loggers import TensorBoardLogger"
   ]
  },
  {
   "cell_type": "markdown",
   "id": "9753de8f",
   "metadata": {},
   "source": [
    "#### Load the Data"
   ]
  },
  {
   "cell_type": "code",
   "execution_count": 2,
   "id": "0356e214",
   "metadata": {},
   "outputs": [],
   "source": [
    "paths = {\n",
    "    'multiome': \n",
    "    {        \n",
    "        'x': '/arc/project/st-jiaruid-1/yinian/multiome/svd-comp/train_input_multiome_svd128.pkl',\n",
    "        'y': '/arc/project/st-jiaruid-1/yinian/multiome/sparse-data/train_multi_targets_values.sparse.npz',\n",
    "        'x_test': '/arc/project/st-jiaruid-1/yinian/multiome/svd-comp/test_input_multiome_svd128.pkl',\n",
    "        'x_cols': '/arc/project/st-jiaruid-1/yinian/multiome/sparse-data/train_multi_inputs_idxcol.npz',\n",
    "        'y_cols': '/arc/project/st-jiaruid-1/yinian/multiome/sparse-data/train_multi_targets_idxcol.npz',\n",
    "        'x_test_cols': '/arc/project/st-jiaruid-1/yinian/multiome/sparse-data/test_multi_inputs_idxcol.npz'\n",
    "    },\n",
    "    'cite':\n",
    "    {\n",
    "        'x': '/arc/project/st-jiaruid-1/yinian/multiome/svd-comp/train_input_cite_svd128.pkl',\n",
    "        'y': '/arc/project/st-jiaruid-1/yinian/multiome/sparse-data/train_cite_targets_values.sparse.npz',\n",
    "        'x_test': '/arc/project/st-jiaruid-1/yinian/multiome/svd-comp/test_input_cite_svd128.pkl',\n",
    "        'x_cols': '/arc/project/st-jiaruid-1/yinian/multiome/sparse-data/train_cite_inputs_idxcol.npz',\n",
    "        'y_cols': '/arc/project/st-jiaruid-1/yinian/multiome/sparse-data/train_cite_targets_idxcol.npz',\n",
    "        'x_test_cols': '/arc/project/st-jiaruid-1/yinian/multiome/sparse-data/test_cite_inputs_idxcol.npz',\n",
    "    }\n",
    "}"
   ]
  },
  {
   "cell_type": "code",
   "execution_count": 3,
   "id": "45eaef3e",
   "metadata": {},
   "outputs": [],
   "source": [
    "modality = 'cite'"
   ]
  },
  {
   "cell_type": "code",
   "execution_count": 4,
   "id": "3cca1c67",
   "metadata": {},
   "outputs": [],
   "source": [
    "dm = DataModule(\n",
    "    x_path = paths[modality][\"x\"],\n",
    "    y_path = paths[modality][\"y\"],\n",
    "    x_test_path = paths[modality][\"x_test\"],\n",
    "    batch_size = 1000,\n",
    ")"
   ]
  },
  {
   "cell_type": "markdown",
   "id": "c92fff98",
   "metadata": {},
   "source": [
    "#### Random Architectures"
   ]
  },
  {
   "cell_type": "code",
   "execution_count": 5,
   "id": "eae7edfe",
   "metadata": {},
   "outputs": [],
   "source": [
    "model = BaseNet(input_dim = 128, output_dim = 140)"
   ]
  },
  {
   "cell_type": "code",
   "execution_count": 6,
   "id": "5e0d590b",
   "metadata": {},
   "outputs": [
    {
     "name": "stderr",
     "output_type": "stream",
     "text": [
      "GPU available: False, used: False\n",
      "TPU available: False, using: 0 TPU cores\n",
      "IPU available: False, using: 0 IPUs\n",
      "HPU available: False, using: 0 HPUs\n"
     ]
    }
   ],
   "source": [
    "trainer = Trainer(\n",
    "    logger=TensorBoardLogger(save_dir=\"output/temp\"),\n",
    "    callbacks=[\n",
    "        TQDMProgressBar(refresh_rate=1000),\n",
    "        EarlyStopping(monitor=\"val/pcc\", mode=\"max\", patience=20)\n",
    "    ],\n",
    "    max_epochs=2,\n",
    "    num_sanity_val_steps=0,\n",
    ")"
   ]
  },
  {
   "cell_type": "code",
   "execution_count": 7,
   "id": "1ebaf7fd",
   "metadata": {
    "scrolled": true
   },
   "outputs": [
    {
     "name": "stderr",
     "output_type": "stream",
     "text": [
      "\n",
      "  | Name  | Type       | Params\n",
      "-------------------------------------\n",
      "0 | stack | Sequential | 739 K \n",
      "1 | loss  | MSELoss    | 0     \n",
      "-------------------------------------\n",
      "739 K     Trainable params\n",
      "0         Non-trainable params\n",
      "739 K     Total params\n",
      "2.957     Total estimated model params size (MB)\n",
      "/arc/project/st-jiaruid-1/yinian/tensorflow-gpu/lib/python3.9/site-packages/pytorch_lightning/trainer/connectors/data_connector.py:236: PossibleUserWarning: The dataloader, train_dataloader, does not have many workers which may be a bottleneck. Consider increasing the value of the `num_workers` argument` (try 24 which is the number of cpus on this machine) in the `DataLoader` init to improve performance.\n",
      "  rank_zero_warn(\n",
      "/arc/project/st-jiaruid-1/yinian/tensorflow-gpu/lib/python3.9/site-packages/pytorch_lightning/trainer/connectors/data_connector.py:236: PossibleUserWarning: The dataloader, val_dataloader 0, does not have many workers which may be a bottleneck. Consider increasing the value of the `num_workers` argument` (try 24 which is the number of cpus on this machine) in the `DataLoader` init to improve performance.\n",
      "  rank_zero_warn(\n"
     ]
    },
    {
     "name": "stdout",
     "output_type": "stream",
     "text": [
      "Epoch 0:   0%|          | 0/72 [00:00<?, ?it/s] \n",
      "Validation: 0it [00:00, ?it/s]\u001b[A\n",
      "Validation:   0%|          | 0/15 [00:00<?, ?it/s]\u001b[A\n",
      "Validation DataLoader 0:   0%|          | 0/15 [00:00<?, ?it/s]\u001b[A\n",
      "Epoch 0: 100%|██████████| 72/72 [00:13<00:00,  5.22it/s, loss=4.78, v_num=13, val/pcc=0.779]\n",
      "Epoch 1:   0%|          | 0/72 [00:00<?, ?it/s, loss=4.78, v_num=13, val/pcc=0.779, train/pcc=0.782]         \n",
      "Validation: 0it [00:00, ?it/s]\u001b[A\n",
      "Validation:   0%|          | 0/15 [00:00<?, ?it/s]\u001b[A\n",
      "Validation DataLoader 0:   0%|          | 0/15 [00:00<?, ?it/s]\u001b[A\n",
      "Epoch 1: 100%|██████████| 72/72 [00:05<00:00, 12.19it/s, loss=4.22, v_num=13, val/pcc=0.826, train/pcc=0.782]\n",
      "Epoch 1: 100%|██████████| 72/72 [00:05<00:00, 12.02it/s, loss=4.22, v_num=13, val/pcc=0.826, train/pcc=0.829]"
     ]
    },
    {
     "name": "stderr",
     "output_type": "stream",
     "text": [
      "`Trainer.fit` stopped: `max_epochs=2` reached.\n"
     ]
    },
    {
     "name": "stdout",
     "output_type": "stream",
     "text": [
      "Epoch 1: 100%|██████████| 72/72 [00:06<00:00, 11.94it/s, loss=4.22, v_num=13, val/pcc=0.826, train/pcc=0.829]\n"
     ]
    }
   ],
   "source": [
    "trainer.fit(model, dm)"
   ]
  },
  {
   "cell_type": "code",
   "execution_count": null,
   "id": "f7aa2970",
   "metadata": {},
   "outputs": [],
   "source": [
    "len(model.pcc_storage['train']), len(model.pcc_storage['val']) "
   ]
  },
  {
   "cell_type": "code",
   "execution_count": null,
   "id": "16353888",
   "metadata": {},
   "outputs": [],
   "source": []
  },
  {
   "cell_type": "code",
   "execution_count": null,
   "id": "ee95f7af",
   "metadata": {},
   "outputs": [],
   "source": []
  },
  {
   "cell_type": "code",
   "execution_count": null,
   "id": "31f12a0f",
   "metadata": {},
   "outputs": [],
   "source": []
  }
 ],
 "metadata": {
  "kernelspec": {
   "display_name": "gpu",
   "language": "python",
   "name": "gpu"
  },
  "language_info": {
   "codemirror_mode": {
    "name": "ipython",
    "version": 3
   },
   "file_extension": ".py",
   "mimetype": "text/x-python",
   "name": "python",
   "nbconvert_exporter": "python",
   "pygments_lexer": "ipython3",
   "version": "3.9.13"
  }
 },
 "nbformat": 4,
 "nbformat_minor": 5
}
