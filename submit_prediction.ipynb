{
 "cells": [
  {
   "cell_type": "code",
   "execution_count": 1,
   "id": "25578a6a",
   "metadata": {},
   "outputs": [],
   "source": [
    "import gc\n",
    "import pandas as pd\n",
    "import pickle\n",
    "from os.path import join\n",
    "import numpy as np\n",
    "from datetime import datetime"
   ]
  },
  {
   "cell_type": "markdown",
   "id": "cdf1ef72",
   "metadata": {},
   "source": [
    "## Enter your prediction paths in the next cell"
   ]
  },
  {
   "cell_type": "code",
   "execution_count": 2,
   "id": "f1664941",
   "metadata": {},
   "outputs": [],
   "source": [
    "# predictions\n",
    "BASE='/scratch/st-jiaruid-1/shenoy/projects/scRNA-competition/output/'\n",
    "prediction_paths = {\n",
    "    'multiome': join(BASE, 'catboost-exp-multiome-i32-o10/03_10_2022-12_09/test_pred.pkl'),\n",
    "    'cite': join(BASE, 'krr-rbf-exp/30_09_2022-23_23/test_pred.pkl')\n",
    "}\n",
    "\n",
    "# load prediction files\n",
    "predictions = {}\n",
    "for tech, path in prediction_paths.items():\n",
    "    predictions[tech] = pickle.load(open(path, 'rb'))"
   ]
  },
  {
   "cell_type": "code",
   "execution_count": 3,
   "id": "7b9828fa",
   "metadata": {},
   "outputs": [],
   "source": [
    "assert (predictions['multiome'].shape == (55935, 23418))\n",
    "assert (predictions['cite'].shape == (48663, 140))"
   ]
  },
  {
   "cell_type": "code",
   "execution_count": 4,
   "id": "38f7edea",
   "metadata": {},
   "outputs": [
    {
     "name": "stdout",
     "output_type": "stream",
     "text": [
      "CPU times: user 17.4 s, sys: 2.27 s, total: 19.7 s\n",
      "Wall time: 19.8 s\n"
     ]
    }
   ],
   "source": [
    "%%time\n",
    "# Read the table of rows and columns required for submission\n",
    "eval_ids = pd.read_parquet(\"/arc/project/st-jiaruid-1/yinian/multiome/sparse-data/evaluation.parquet\")\n",
    "# Convert the string columns to more efficient categorical types\n",
    "#eval_ids.cell_id = eval_ids.cell_id.apply(lambda s: int(s, base=16))\n",
    "eval_ids.cell_id = eval_ids.cell_id.astype(pd.CategoricalDtype())\n",
    "eval_ids.gene_id = eval_ids.gene_id.astype(pd.CategoricalDtype())"
   ]
  },
  {
   "cell_type": "code",
   "execution_count": 5,
   "id": "5db74cca",
   "metadata": {},
   "outputs": [
    {
     "data": {
      "text/plain": [
       "row_id    cell_id       gene_id        \n",
       "0         c2150f55becb  CD86              NaN\n",
       "1         c2150f55becb  CD274             NaN\n",
       "2         c2150f55becb  CD270             NaN\n",
       "3         c2150f55becb  CD155             NaN\n",
       "4         c2150f55becb  CD112             NaN\n",
       "                                           ..\n",
       "65744175  2c53aa67933d  ENSG00000134419   NaN\n",
       "65744176  2c53aa67933d  ENSG00000186862   NaN\n",
       "65744177  2c53aa67933d  ENSG00000170959   NaN\n",
       "65744178  2c53aa67933d  ENSG00000107874   NaN\n",
       "65744179  2c53aa67933d  ENSG00000166012   NaN\n",
       "Name: target, Length: 65744180, dtype: float32"
      ]
     },
     "execution_count": 5,
     "metadata": {},
     "output_type": "execute_result"
    }
   ],
   "source": [
    "# Prepare an empty series which will be filled with predictions\n",
    "submission = pd.Series(name='target',\n",
    "                       index=pd.MultiIndex.from_frame(eval_ids), \n",
    "                       dtype=np.float32)\n",
    "submission"
   ]
  },
  {
   "cell_type": "code",
   "execution_count": 6,
   "id": "3c06ced2",
   "metadata": {},
   "outputs": [
    {
     "name": "stdout",
     "output_type": "stream",
     "text": [
      "CPU times: user 19.1 ms, sys: 2.03 ms, total: 21.1 ms\n",
      "Wall time: 42 ms\n"
     ]
    }
   ],
   "source": [
    "%%time\n",
    "y_columns = np.load(\"/arc/project/st-jiaruid-1/yinian/multiome/sparse-data/train_multi_targets_idxcol.npz\",\n",
    "                   allow_pickle=True)[\"columns\"]\n",
    "\n",
    "test_index = np.load(\"/arc/project/st-jiaruid-1/yinian/multiome/sparse-data/test_multi_inputs_idxcol.npz\",\n",
    "                    allow_pickle=True)[\"index\"]"
   ]
  },
  {
   "cell_type": "code",
   "execution_count": 7,
   "id": "95062130",
   "metadata": {},
   "outputs": [],
   "source": [
    "cell_dict = dict((k,v) for v,k in enumerate(test_index)) \n",
    "assert len(cell_dict)  == len(test_index)\n",
    "\n",
    "gene_dict = dict((k,v) for v,k in enumerate(y_columns))\n",
    "assert len(gene_dict) == len(y_columns)"
   ]
  },
  {
   "cell_type": "markdown",
   "id": "4bac79fe",
   "metadata": {},
   "source": [
    "### Adding Multiome predictions"
   ]
  },
  {
   "cell_type": "code",
   "execution_count": 8,
   "id": "be32b604",
   "metadata": {},
   "outputs": [
    {
     "data": {
      "text/plain": [
       "0"
      ]
     },
     "execution_count": 8,
     "metadata": {},
     "output_type": "execute_result"
    }
   ],
   "source": [
    "eval_ids_cell_num = eval_ids.cell_id.apply(lambda x:cell_dict.get(x, -1))\n",
    "eval_ids_gene_num = eval_ids.gene_id.apply(lambda x:gene_dict.get(x, -1))\n",
    "\n",
    "valid_multi_rows = (eval_ids_gene_num !=-1) & (eval_ids_cell_num!=-1)\n",
    "\n",
    "submission.iloc[valid_multi_rows] = predictions['multiome'][eval_ids_cell_num[valid_multi_rows].to_numpy(),\n",
    "eval_ids_gene_num[valid_multi_rows].to_numpy()]\n",
    "gc.collect()"
   ]
  },
  {
   "cell_type": "markdown",
   "id": "1cb61de0",
   "metadata": {},
   "source": [
    "### Adding Cite Predictions"
   ]
  },
  {
   "cell_type": "code",
   "execution_count": 9,
   "id": "ddfae8e5",
   "metadata": {},
   "outputs": [],
   "source": [
    "submission.iloc[:len(predictions['cite'].ravel())] = predictions['cite'].ravel()"
   ]
  },
  {
   "cell_type": "code",
   "execution_count": 10,
   "id": "091a2520",
   "metadata": {},
   "outputs": [],
   "source": [
    "submission.reset_index(drop=True, inplace=True)\n",
    "submission.index.name = 'row_id'"
   ]
  },
  {
   "cell_type": "code",
   "execution_count": 12,
   "id": "1c0ab6e5",
   "metadata": {},
   "outputs": [],
   "source": [
    "assert (submission.isnull().any() == False)"
   ]
  },
  {
   "cell_type": "code",
   "execution_count": null,
   "id": "0a5a8336",
   "metadata": {},
   "outputs": [],
   "source": [
    "x = datetime.now().strftime(\"%d_%m_%Y-%H_%M\") # to make sure we do not replace any predictions\n",
    "BASE='/scratch/st-jiaruid-1/shenoy/projects/scRNA-competition/output/final_predictions'\n",
    "submission.to_csv(join(BASE, f\"submission_{x}.csv\"))"
   ]
  },
  {
   "cell_type": "code",
   "execution_count": null,
   "id": "1859580c",
   "metadata": {},
   "outputs": [],
   "source": []
  }
 ],
 "metadata": {
  "kernelspec": {
   "display_name": "gpu",
   "language": "python",
   "name": "gpu"
  },
  "language_info": {
   "codemirror_mode": {
    "name": "ipython",
    "version": 3
   },
   "file_extension": ".py",
   "mimetype": "text/x-python",
   "name": "python",
   "nbconvert_exporter": "python",
   "pygments_lexer": "ipython3",
   "version": "3.9.13"
  }
 },
 "nbformat": 4,
 "nbformat_minor": 5
}
