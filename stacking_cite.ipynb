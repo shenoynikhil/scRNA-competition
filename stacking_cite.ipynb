{
 "cells": [
  {
   "cell_type": "code",
   "execution_count": 1,
   "id": "2ecc719d",
   "metadata": {},
   "outputs": [
    {
     "name": "stderr",
     "output_type": "stream",
     "text": [
      "/arc/project/st-jiaruid-1/yinian/tensorflow-gpu/lib/python3.9/site-packages/tqdm/auto.py:22: TqdmWarning: IProgress not found. Please update jupyter and ipywidgets. See https://ipywidgets.readthedocs.io/en/stable/user_install.html\n",
      "  from .autonotebook import tqdm as notebook_tqdm\n"
     ]
    }
   ],
   "source": [
    "import os\n",
    "import pickle\n",
    "import numpy as np\n",
    "import scipy\n",
    "from tqdm import tqdm\n",
    "from datetime import datetime\n",
    "from utils import correlation_score"
   ]
  },
  {
   "cell_type": "code",
   "execution_count": 76,
   "id": "856d22b0",
   "metadata": {},
   "outputs": [],
   "source": [
    "base_path = 'output/tabnet-cite-imp-kfold/13_10_2022-15_19'\n",
    "model_paths = [\n",
    "    'output/tabnet-cite-imp-kfold/13_10_2022-15_19/model_0th_fold.pkl',\n",
    "    'output/tabnet-cite-imp-kfold/13_10_2022-15_19/model_1th_fold.pkl',\n",
    "    'output/tabnet-cite-imp-kfold/13_10_2022-15_19/model_2th_fold.pkl',\n",
    "    'output/tabnet-cite-imp-kfold/13_10_2022-15_19/model_3th_fold.pkl',\n",
    "    'output/tabnet-cite-imp-kfold/13_10_2022-15_19/model_4th_fold.pkl',    \n",
    "]\n",
    "\n",
    "pca_path = 'output/tabnet-cite-imp-kfold/13_10_2022-15_19/pca_y.pkl'\n",
    "x_path = '/scratch/st-jiaruid-1/shenoy/svd-comp/train_input_cite_200_mod.pkl'\n",
    "y_path = '/arc/project/st-jiaruid-1/yinian/multiome/sparse-data/train_cite_targets_values.sparse.npz'\n",
    "x_cols_path = '/arc/project/st-jiaruid-1/yinian/multiome/sparse-data/train_cite_targets_idxcol.npz'\n",
    "val_set_indices_path = '/arc/project/st-jiaruid-1/yinian/multiome/cite_val_set_5000_0.75_day_7.npy'"
   ]
  },
  {
   "cell_type": "markdown",
   "id": "85741a98",
   "metadata": {},
   "source": [
    "#### Load PCA"
   ]
  },
  {
   "cell_type": "code",
   "execution_count": 3,
   "id": "a23b4654",
   "metadata": {},
   "outputs": [],
   "source": [
    "# load pca\n",
    "with open(pca_path, 'rb') as f:\n",
    "    pca_y = pickle.load(f)"
   ]
  },
  {
   "cell_type": "code",
   "execution_count": 4,
   "id": "ccc8ed67",
   "metadata": {},
   "outputs": [],
   "source": [
    "# load x features\n",
    "with open(x_path, 'rb') as f:\n",
    "    x = pickle.load(f)\n",
    "    \n",
    "y = scipy.sparse.load_npz(y_path).toarray()\n",
    "    \n",
    "x_cols = np.load(x_cols_path, allow_pickle=True)[\"index\"].tolist()"
   ]
  },
  {
   "cell_type": "code",
   "execution_count": 5,
   "id": "302b8eed",
   "metadata": {},
   "outputs": [],
   "source": [
    "val_indices = set(np.load(val_set_indices_path).tolist())"
   ]
  },
  {
   "cell_type": "code",
   "execution_count": 6,
   "id": "381e4e91",
   "metadata": {},
   "outputs": [],
   "source": [
    "indices_to_use = [i for i, x in enumerate(x_cols) if x in val_indices]"
   ]
  },
  {
   "cell_type": "code",
   "execution_count": 7,
   "id": "7cf0ed92",
   "metadata": {},
   "outputs": [],
   "source": [
    "x_pred = x[indices_to_use, :]\n",
    "y_true = y[indices_to_use, :]"
   ]
  },
  {
   "cell_type": "code",
   "execution_count": 8,
   "id": "01755ce5",
   "metadata": {},
   "outputs": [
    {
     "name": "stderr",
     "output_type": "stream",
     "text": [
      "  0%|          | 0/5 [00:00<?, ?it/s]Error in cpuinfo: failed to parse processor information from /proc/cpuinfo\n",
      "100%|██████████| 5/5 [00:06<00:00,  1.36s/it]\n"
     ]
    }
   ],
   "source": [
    "predictions = []\n",
    "for path in tqdm(model_paths):\n",
    "    # load model\n",
    "    with open(path, 'rb') as f:\n",
    "        model = pickle.load(f)\n",
    "    \n",
    "    # store predictions\n",
    "    predictions.append(model.predict(x_pred) @ pca_y.components_)"
   ]
  },
  {
   "cell_type": "code",
   "execution_count": 22,
   "id": "9d694790",
   "metadata": {},
   "outputs": [],
   "source": [
    "predictions = np.stack(predictions)"
   ]
  },
  {
   "cell_type": "markdown",
   "id": "f6fa9ead",
   "metadata": {},
   "source": [
    "#### Prepare Stacking Model"
   ]
  },
  {
   "cell_type": "code",
   "execution_count": 54,
   "id": "679635ae",
   "metadata": {},
   "outputs": [],
   "source": [
    "from functools import partial\n",
    "from scipy.optimize import fmin\n",
    "\n",
    "# using https://www.youtube.com/watch?v=TuIgtitqJho\n",
    "class OptimizePCC:\n",
    "    def __init__(self):\n",
    "        self.coef_ = 0\n",
    "        \n",
    "    def _pcc(self, coef, X, y):\n",
    "        coef = np.reshape(coef, (coef.shape[0], 1, 1))\n",
    "        x_coef = X * coef\n",
    "        predictions = np.sum(x_coef, axis=0)\n",
    "        pcc = correlation_score(y, predictions)\n",
    "        return -1.0 * pcc\n",
    "    \n",
    "    def fit(self, X, y):\n",
    "        partial_loss = partial(self._pcc, X=X, y=y)\n",
    "        init_coef = np.random.dirichlet(np.ones(X.shape[0]))\n",
    "        self.coef_ = fmin(partial_loss, init_coef, disp=True)\n",
    "    \n",
    "    def predict(self, X):\n",
    "        coef = self.coef_\n",
    "        coef = np.reshape(coef, (coef.shape[0], 1, 1))\n",
    "        x_coef = X * coef\n",
    "        return np.sum(x_coef, axis=0)"
   ]
  },
  {
   "cell_type": "code",
   "execution_count": 55,
   "id": "75ba1966",
   "metadata": {},
   "outputs": [],
   "source": [
    "from sklearn.model_selection import KFold"
   ]
  },
  {
   "cell_type": "code",
   "execution_count": 56,
   "id": "37bf3606",
   "metadata": {},
   "outputs": [],
   "source": [
    "kf = KFold(n_splits=5, shuffle=True, random_state=42)"
   ]
  },
  {
   "cell_type": "code",
   "execution_count": null,
   "id": "af20fdb9",
   "metadata": {},
   "outputs": [
    {
     "name": "stdout",
     "output_type": "stream",
     "text": [
      "Optimization terminated successfully.\n",
      "         Current function value: -0.892352\n",
      "         Iterations: 147\n",
      "         Function evaluations: 244\n",
      "For fold: 0, score: 0.8890774085574681\n",
      "Optimization terminated successfully.\n",
      "         Current function value: -0.891585\n",
      "         Iterations: 104\n",
      "         Function evaluations: 178\n",
      "For fold: 1, score: 0.892133064684909\n",
      "Optimization terminated successfully.\n",
      "         Current function value: -0.891590\n",
      "         Iterations: 178\n",
      "         Function evaluations: 286\n",
      "For fold: 2, score: 0.8921251203805505\n",
      "Optimization terminated successfully.\n",
      "         Current function value: -0.891849\n",
      "         Iterations: 169\n",
      "         Function evaluations: 273\n",
      "For fold: 3, score: 0.8910652699582885\n"
     ]
    }
   ],
   "source": [
    "coeffs = []\n",
    "for i, (tr_indices, val_indices) in enumerate(kf.split(list(range(y_true.shape[0])))):\n",
    "    # get x_train and y_train\n",
    "    x_train, y_train = predictions[:, tr_indices, :], y_true[tr_indices, :]\n",
    "    x_val, y_val = predictions[:, val_indices, :], y_true[val_indices, :]\n",
    "    \n",
    "    # opt\n",
    "    opt = OptimizePCC()\n",
    "    opt.fit(x_train, y_train)\n",
    "    \n",
    "    # check score\n",
    "    score = correlation_score(y_val, opt.predict(x_val))\n",
    "    print (f'For fold: {i}, score: {score}')\n",
    "    \n",
    "    # store coeff\n",
    "    coeffs.append(opt.coef_)"
   ]
  },
  {
   "cell_type": "markdown",
   "id": "ebdf8e6d",
   "metadata": {},
   "source": [
    "##### x_test prediction"
   ]
  },
  {
   "cell_type": "code",
   "execution_count": 66,
   "id": "c8dcfcfb",
   "metadata": {},
   "outputs": [
    {
     "name": "stdout",
     "output_type": "stream",
     "text": [
      "[0.16880088 0.07555048 0.11631216 0.12215153 0.12251181]\n"
     ]
    }
   ],
   "source": [
    "final_coeffs = np.mean(coeffs, 0)\n",
    "print (final_coeffs)"
   ]
  },
  {
   "cell_type": "code",
   "execution_count": 67,
   "id": "114a3237",
   "metadata": {},
   "outputs": [],
   "source": [
    "x_test_path = '/scratch/st-jiaruid-1/shenoy/svd-comp/test_input_cite_svd200_mod.pkl'\n",
    "with open(x_test_path, 'rb') as f:\n",
    "    x_test = pickle.load(f)"
   ]
  },
  {
   "cell_type": "code",
   "execution_count": 68,
   "id": "200a014f",
   "metadata": {},
   "outputs": [
    {
     "name": "stderr",
     "output_type": "stream",
     "text": [
      "100%|██████████| 5/5 [01:01<00:00, 12.32s/it]\n"
     ]
    }
   ],
   "source": [
    "test_predictions = []\n",
    "for path in tqdm(model_paths):\n",
    "    # load model\n",
    "    with open(path, 'rb') as f:\n",
    "        model = pickle.load(f)\n",
    "    \n",
    "    # store predictions\n",
    "    test_predictions.append(model.predict(x_test) @ pca_y.components_)"
   ]
  },
  {
   "cell_type": "code",
   "execution_count": 69,
   "id": "5208adc7",
   "metadata": {},
   "outputs": [],
   "source": [
    "test_predictions = np.stack(test_predictions)"
   ]
  },
  {
   "cell_type": "code",
   "execution_count": 70,
   "id": "beabc8e1",
   "metadata": {},
   "outputs": [],
   "source": [
    "final_coeffs_ = np.reshape(final_coeffs, (final_coeffs.shape[0], 1, 1))"
   ]
  },
  {
   "cell_type": "code",
   "execution_count": 71,
   "id": "4c9ecf1a",
   "metadata": {},
   "outputs": [],
   "source": [
    "test_predictions = final_coeffs_ * test_predictions"
   ]
  },
  {
   "cell_type": "code",
   "execution_count": 75,
   "id": "cc122756",
   "metadata": {},
   "outputs": [],
   "source": [
    "test_predictions = np.sum(test_predictions, 0)"
   ]
  },
  {
   "cell_type": "code",
   "execution_count": 78,
   "id": "3c0b49de",
   "metadata": {},
   "outputs": [],
   "source": [
    "pkl_filename = os.path.join(base_path, 'ensembled_test_pred.pkl')\n",
    "with open(pkl_filename, \"wb\") as file:\n",
    "    pickle.dump(test_predictions, file)"
   ]
  },
  {
   "cell_type": "code",
   "execution_count": null,
   "id": "480371b6",
   "metadata": {},
   "outputs": [],
   "source": []
  }
 ],
 "metadata": {
  "kernelspec": {
   "display_name": "gpu",
   "language": "python",
   "name": "gpu"
  },
  "language_info": {
   "codemirror_mode": {
    "name": "ipython",
    "version": 3
   },
   "file_extension": ".py",
   "mimetype": "text/x-python",
   "name": "python",
   "nbconvert_exporter": "python",
   "pygments_lexer": "ipython3",
   "version": "3.9.13"
  }
 },
 "nbformat": 4,
 "nbformat_minor": 5
}
