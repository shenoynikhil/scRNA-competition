{
 "cells": [
  {
   "cell_type": "code",
   "execution_count": 1,
   "id": "6d2758c5",
   "metadata": {},
   "outputs": [],
   "source": [
    "import argparse\n",
    "import gc\n",
    "import logging\n",
    "import pickle\n",
    "from datetime import datetime\n",
    "from os import makedirs\n",
    "from os.path import join\n",
    "from pathlib import Path\n",
    "\n",
    "import numpy as np\n",
    "import scipy\n",
    "import yaml\n",
    "from sklearn.model_selection import KFold\n",
    "from utils import correlation_score, preprocessing, setup_model"
   ]
  },
  {
   "cell_type": "code",
   "execution_count": 2,
   "id": "ad8797b7",
   "metadata": {},
   "outputs": [],
   "source": [
    "from run import main"
   ]
  },
  {
   "cell_type": "code",
   "execution_count": 3,
   "id": "f062c46a",
   "metadata": {},
   "outputs": [
    {
     "name": "stdout",
     "output_type": "stream",
     "text": [
      "Predicting and calculating metrics\n",
      "Predicting and calculating metrics\n",
      "Predicting and calculating metrics\n",
      "Predicting and calculating metrics\n",
      "Predicting and calculating metrics\n"
     ]
    }
   ],
   "source": [
    "config = yaml.safe_load(Path('../experiments/test.yaml').read_text())\n",
    "main(config)"
   ]
  },
  {
   "cell_type": "code",
   "execution_count": 5,
   "id": "725bbdf3",
   "metadata": {},
   "outputs": [],
   "source": [
    "with open('../output/trial/30_09_2022-21_53/test_pred.pkl', 'rb') as f:\n",
    "    x = pickle.load(f)"
   ]
  },
  {
   "cell_type": "code",
   "execution_count": null,
   "id": "926366eb",
   "metadata": {},
   "outputs": [],
   "source": []
  },
  {
   "cell_type": "markdown",
   "id": "e11ab995",
   "metadata": {},
   "source": []
  }
 ],
 "metadata": {
  "kernelspec": {
   "display_name": "Python 3 (ipykernel)",
   "language": "python",
   "name": "python3"
  },
  "language_info": {
   "codemirror_mode": {
    "name": "ipython",
    "version": 3
   },
   "file_extension": ".py",
   "mimetype": "text/x-python",
   "name": "python",
   "nbconvert_exporter": "python",
   "pygments_lexer": "ipython3",
   "version": "3.10.6"
  },
  "vscode": {
   "interpreter": {
    "hash": "916dbcbb3f70747c44a77c7bcd40155683ae19c65e1c03b4aa3499c5328201f1"
   }
  }
 },
 "nbformat": 4,
 "nbformat_minor": 5
}
