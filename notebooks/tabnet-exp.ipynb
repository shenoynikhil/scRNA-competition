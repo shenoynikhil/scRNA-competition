{
 "cells": [
  {
   "cell_type": "markdown",
   "id": "5cfc871a",
   "metadata": {},
   "source": [
    "#### Imports"
   ]
  },
  {
   "cell_type": "code",
   "execution_count": 1,
   "id": "0b0bb2c6",
   "metadata": {},
   "outputs": [
    {
     "name": "stderr",
     "output_type": "stream",
     "text": [
      "/arc/project/st-jiaruid-1/yinian/tensorflow-gpu/lib/python3.9/site-packages/tqdm/auto.py:22: TqdmWarning: IProgress not found. Please update jupyter and ipywidgets. See https://ipywidgets.readthedocs.io/en/stable/user_install.html\n",
      "  from .autonotebook import tqdm as notebook_tqdm\n"
     ]
    }
   ],
   "source": [
    "import gc\n",
    "import pickle\n",
    "from datetime import datetime\n",
    "from os import makedirs\n",
    "from os.path import dirname, join\n",
    "from pathlib import Path\n",
    "\n",
    "import numpy as np\n",
    "import scipy\n",
    "import yaml\n",
    "from sklearn.decomposition import TruncatedSVD\n",
    "from sklearn.model_selection import KFold\n",
    "\n",
    "from pytorch_tabnet.tab_model import TabNetRegressor\n",
    "from pytorch_tabnet.metrics import Metric\n",
    "from torch.nn import functional as F\n",
    "import torch.optim as optim\n",
    "from torch.optim.lr_scheduler import ReduceLROnPlateau\n",
    "import torch\n",
    "import torch.nn as nn"
   ]
  },
  {
   "cell_type": "markdown",
   "id": "309b380a",
   "metadata": {},
   "source": [
    "#### Utils"
   ]
  },
  {
   "cell_type": "code",
   "execution_count": 2,
   "id": "2583a7ce",
   "metadata": {},
   "outputs": [],
   "source": [
    "def correlation_score(y_true, y_pred):\n",
    "    \"\"\"Scores the predictions according to the competition rules.\n",
    "\n",
    "    It is assumed that the predictions are not constant.\n",
    "\n",
    "    Returns the average of each sample's Pearson correlation coefficient\n",
    "\n",
    "    Source: https://www.kaggle.com/code/xiafire/lb-t15-msci-multiome-catboostregressor#Predicting\n",
    "    \"\"\"\n",
    "    if y_true.shape != y_pred.shape:\n",
    "        raise ValueError(\"Shapes are different.\")\n",
    "    corrsum = 0\n",
    "    for i in range(len(y_true)):\n",
    "        corrsum += np.corrcoef(y_true[i], y_pred[i])[1, 0]\n",
    "    return corrsum / len(y_true)"
   ]
  },
  {
   "cell_type": "code",
   "execution_count": 3,
   "id": "3ceecda0",
   "metadata": {},
   "outputs": [],
   "source": [
    "config = {\n",
    "    \"output_dir\": \"/scratch/st-jiaruid-1/shenoy/projects/scRNA-competition/output/krr-rbf-exp\",\n",
    "    \"paths\": {\n",
    "      \"x\": \"/scratch/st-jiaruid-1/shenoy/svd-comp/train_input_multiome_svd128.pkl\",\n",
    "      \"y\": \"/arc/project/st-jiaruid-1/yinian/multiome/sparse-data/train_multi_targets_values.sparse.npz\",\n",
    "      \"x_test\": \"/scratch/st-jiaruid-1/shenoy/svd-comp/test_input_multiome_svd128.pkl\"\n",
    "    },\n",
    "    \"seed\": 42\n",
    "}"
   ]
  },
  {
   "cell_type": "code",
   "execution_count": 4,
   "id": "b39b03ab",
   "metadata": {},
   "outputs": [
    {
     "name": "stdout",
     "output_type": "stream",
     "text": [
      "CPU times: user 1 µs, sys: 1 µs, total: 2 µs\n",
      "Wall time: 4.77 µs\n"
     ]
    }
   ],
   "source": [
    "# Load Data\n",
    "%time\n",
    "x_train_transformed = pickle.load(open(config[\"paths\"][\"x\"], \"rb\"))"
   ]
  },
  {
   "cell_type": "code",
   "execution_count": 5,
   "id": "5c8a24f8",
   "metadata": {},
   "outputs": [
    {
     "name": "stdout",
     "output_type": "stream",
     "text": [
      "CPU times: user 3 µs, sys: 0 ns, total: 3 µs\n",
      "Wall time: 5.01 µs\n"
     ]
    }
   ],
   "source": [
    "%time\n",
    "x_test_transformed = pickle.load(open(config[\"paths\"][\"x_test\"], \"rb\"))"
   ]
  },
  {
   "cell_type": "code",
   "execution_count": 6,
   "id": "c6a2a0ff",
   "metadata": {},
   "outputs": [
    {
     "name": "stdout",
     "output_type": "stream",
     "text": [
      "CPU times: user 2 µs, sys: 1 µs, total: 3 µs\n",
      "Wall time: 5.01 µs\n"
     ]
    }
   ],
   "source": [
    "%time\n",
    "y = scipy.sparse.load_npz(config[\"paths\"][\"y\"])"
   ]
  },
  {
   "cell_type": "code",
   "execution_count": 7,
   "id": "a31c707e",
   "metadata": {},
   "outputs": [],
   "source": [
    "pca_y = TruncatedSVD(\n",
    "    n_components=1,\n",
    "    random_state=config['seed'],\n",
    ")\n",
    "y_transformed = pca_y.fit_transform(y)"
   ]
  },
  {
   "cell_type": "markdown",
   "id": "57ba6279",
   "metadata": {},
   "source": [
    "#### Tabnet"
   ]
  },
  {
   "cell_type": "code",
   "execution_count": 9,
   "id": "63bf0814",
   "metadata": {},
   "outputs": [],
   "source": [
    "tabnet_params = dict(\n",
    "    n_d = 16,\n",
    "    n_a = 16,\n",
    "    n_steps = 8,\n",
    "    gamma = 1.3,\n",
    "    lambda_sparse = 0,\n",
    "    optimizer_fn = optim.Adam,\n",
    "    optimizer_params = dict(lr = 2e-2, weight_decay = 1e-5),\n",
    "    mask_type = \"entmax\",\n",
    "    scheduler_params = dict(\n",
    "        mode = \"min\", patience = 5, min_lr = 1e-5, factor = 0.9),\n",
    "    scheduler_fn = ReduceLROnPlateau,\n",
    "    seed = config[\"seed\"],\n",
    "    verbose = 10\n",
    ")"
   ]
  },
  {
   "cell_type": "code",
   "execution_count": 10,
   "id": "c8e9ea98",
   "metadata": {},
   "outputs": [
    {
     "name": "stderr",
     "output_type": "stream",
     "text": [
      "/arc/project/st-jiaruid-1/yinian/tensorflow-gpu/lib/python3.9/site-packages/pytorch_tabnet/abstract_model.py:75: UserWarning: Device used : cpu\n",
      "  warnings.warn(f\"Device used : {self.device}\")\n"
     ]
    }
   ],
   "source": [
    "model = TabNetRegressor(**tabnet_params)"
   ]
  },
  {
   "cell_type": "code",
   "execution_count": null,
   "id": "192db6ae",
   "metadata": {},
   "outputs": [
    {
     "name": "stderr",
     "output_type": "stream",
     "text": [
      "/arc/project/st-jiaruid-1/yinian/tensorflow-gpu/lib/python3.9/site-packages/pytorch_tabnet/abstract_model.py:651: UserWarning: No early stopping will be performed, last training weights will be used.\n",
      "  warnings.warn(wrn_msg)\n"
     ]
    },
    {
     "name": "stdout",
     "output_type": "stream",
     "text": [
      "epoch 0  | loss: 18661.50942|  0:00:16s\n",
      "epoch 10 | loss: 538.2967|  0:02:56s\n",
      "epoch 20 | loss: 452.81091|  0:05:46s\n"
     ]
    }
   ],
   "source": [
    "model.fit(x_train_transformed, y_transformed)"
   ]
  },
  {
   "cell_type": "code",
   "execution_count": null,
   "id": "a7d2f793",
   "metadata": {},
   "outputs": [],
   "source": [
    "score = correlation_score(\n",
    "    y.toarray(), \n",
    "    model.predict(x_train_transformed) @ pca_y.components_\n",
    ")"
   ]
  },
  {
   "cell_type": "code",
   "execution_count": null,
   "id": "6597e05d",
   "metadata": {},
   "outputs": [],
   "source": [
    "print (f'Score is {score}')"
   ]
  },
  {
   "cell_type": "code",
   "execution_count": null,
   "id": "651dcc93",
   "metadata": {},
   "outputs": [],
   "source": []
  },
  {
   "cell_type": "code",
   "execution_count": null,
   "id": "88faaf28",
   "metadata": {},
   "outputs": [],
   "source": []
  }
 ],
 "metadata": {
  "kernelspec": {
   "display_name": "gpu",
   "language": "python",
   "name": "gpu"
  },
  "language_info": {
   "codemirror_mode": {
    "name": "ipython",
    "version": 3
   },
   "file_extension": ".py",
   "mimetype": "text/x-python",
   "name": "python",
   "nbconvert_exporter": "python",
   "pygments_lexer": "ipython3",
   "version": "3.9.13"
  }
 },
 "nbformat": 4,
 "nbformat_minor": 5
}
