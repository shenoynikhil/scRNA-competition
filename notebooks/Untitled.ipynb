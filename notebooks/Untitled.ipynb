{
 "cells": [
  {
   "cell_type": "markdown",
   "id": "3453b6d4",
   "metadata": {},
   "source": [
    "#### Store Representations with NMF, ICA, TruncatedSVD"
   ]
  },
  {
   "cell_type": "code",
   "execution_count": 1,
   "id": "0a5964dc",
   "metadata": {},
   "outputs": [],
   "source": [
    "import os\n",
    "from scipy import sparse\n",
    "from sklearn.decomposition import FastICA, NMF, SparsePCA, TruncatedSVD"
   ]
  },
  {
   "cell_type": "code",
   "execution_count": 2,
   "id": "e18e025c",
   "metadata": {},
   "outputs": [],
   "source": [
    "paths = {\n",
    "    'cite': '/scratch/st-jiaruid-1/shenoy/data/multiome-sparse-rc/train_cite_inputs_raw_values.sparse.npz',\n",
    "    'multiome': '/scratch/st-jiaruid-1/shenoy/data/multiome-sparse-rc/train_multi_inputs_raw_values.sparse.npz'\n",
    "}"
   ]
  },
  {
   "cell_type": "code",
   "execution_count": 3,
   "id": "d177b9c0",
   "metadata": {},
   "outputs": [],
   "source": [
    "modality = 'cite'"
   ]
  },
  {
   "cell_type": "code",
   "execution_count": 4,
   "id": "ac224e68",
   "metadata": {},
   "outputs": [],
   "source": [
    "path = paths[modality]"
   ]
  },
  {
   "cell_type": "code",
   "execution_count": 5,
   "id": "4b5f8b6b",
   "metadata": {},
   "outputs": [],
   "source": [
    "assert os.path.exists(path)"
   ]
  },
  {
   "cell_type": "code",
   "execution_count": 6,
   "id": "2a67cebe",
   "metadata": {},
   "outputs": [],
   "source": [
    "x = sparse.load_npz(path)"
   ]
  },
  {
   "cell_type": "markdown",
   "id": "92ae6212",
   "metadata": {},
   "source": [
    "#### Load necessary decomposition methods"
   ]
  },
  {
   "cell_type": "code",
   "execution_count": 7,
   "id": "2a35b9df",
   "metadata": {},
   "outputs": [],
   "source": [
    "n_components_ = 10"
   ]
  },
  {
   "cell_type": "markdown",
   "id": "69378d89",
   "metadata": {},
   "source": [
    "#### NMF"
   ]
  },
  {
   "cell_type": "code",
   "execution_count": 8,
   "id": "280be302",
   "metadata": {},
   "outputs": [],
   "source": [
    "transformer = NMF(n_components = n_components_, max_iter=100)"
   ]
  },
  {
   "cell_type": "code",
   "execution_count": 1,
   "id": "ee7d3f25",
   "metadata": {},
   "outputs": [
    {
     "ename": "NameError",
     "evalue": "name 'transformer' is not defined",
     "output_type": "error",
     "traceback": [
      "\u001b[0;31m---------------------------------------------------------------------------\u001b[0m",
      "\u001b[0;31mNameError\u001b[0m                                 Traceback (most recent call last)",
      "Cell \u001b[0;32mIn [1], line 1\u001b[0m\n\u001b[0;32m----> 1\u001b[0m x \u001b[38;5;241m=\u001b[39m transformer\u001b[38;5;241m.\u001b[39mfit_transform(x)\n",
      "\u001b[0;31mNameError\u001b[0m: name 'transformer' is not defined"
     ]
    }
   ],
   "source": [
    "x = transformer.fit_transform(x)"
   ]
  },
  {
   "cell_type": "code",
   "execution_count": null,
   "id": "42f48b22",
   "metadata": {},
   "outputs": [],
   "source": [
    "type(x)"
   ]
  },
  {
   "cell_type": "code",
   "execution_count": null,
   "id": "f89b33e0",
   "metadata": {},
   "outputs": [],
   "source": []
  },
  {
   "cell_type": "code",
   "execution_count": null,
   "id": "d61b9bb6",
   "metadata": {},
   "outputs": [],
   "source": []
  },
  {
   "cell_type": "code",
   "execution_count": null,
   "id": "c0f83b00",
   "metadata": {},
   "outputs": [],
   "source": []
  }
 ],
 "metadata": {
  "kernelspec": {
   "display_name": "gpu",
   "language": "python",
   "name": "gpu"
  },
  "language_info": {
   "codemirror_mode": {
    "name": "ipython",
    "version": 3
   },
   "file_extension": ".py",
   "mimetype": "text/x-python",
   "name": "python",
   "nbconvert_exporter": "python",
   "pygments_lexer": "ipython3",
   "version": "3.9.13"
  }
 },
 "nbformat": 4,
 "nbformat_minor": 5
}
