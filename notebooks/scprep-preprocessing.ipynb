{
 "cells": [
  {
   "cell_type": "markdown",
   "id": "3453b6d4",
   "metadata": {},
   "source": [
    "## Magic\n",
    "Paper: https://www.sciencedirect.com/science/article/pii/S0092867418307244?via%3Dihub"
   ]
  },
  {
   "cell_type": "code",
   "execution_count": 1,
   "id": "9cd815bd",
   "metadata": {},
   "outputs": [
    {
     "name": "stderr",
     "output_type": "stream",
     "text": [
      "Matplotlib created a temporary config/cache directory at /tmp/pbs.4362233.pbsha.ib.sockeye/matplotlib-y5e5xkqt because the default path (/home/jovyan/.cache/matplotlib) is not a writable directory; it is highly recommended to set the MPLCONFIGDIR environment variable to a writable directory, in particular to speed up the import of Matplotlib and to better support multiprocessing.\n"
     ]
    }
   ],
   "source": [
    "import magic\n",
    "import scprep\n",
    "import os\n",
    "import pandas as pd\n",
    "import numpy as np\n",
    "from scipy import sparse\n",
    "import matplotlib.pyplot as plt\n",
    "from sklearn.decomposition import TruncatedSVD\n",
    "import pickle"
   ]
  },
  {
   "cell_type": "code",
   "execution_count": 2,
   "id": "e18e025c",
   "metadata": {},
   "outputs": [],
   "source": [
    "paths = {\n",
    "    'cite': '/arc/project/st-jiaruid-1/shenoy/data/multiome-sparse-rc/train_cite_inputs_raw_values.sparse.npz',\n",
    "    'cite_cols': '/arc/project/st-jiaruid-1/shenoy/data/multiome-sparse-rc/train_cite_inputs_raw_idxcol.npz', \n",
    "    'multiome': '/arc/project/st-jiaruid-1/shenoy/data/multiome-sparse-rc/train_multi_inputs_raw_values.sparse.npz',\n",
    "    'multiome_cols': '/arc/project/st-jiaruid-1/shenoy/data/multiome-sparse-rc/train_multi_inputs_raw_idxcol.npz',\n",
    "}"
   ]
  },
  {
   "cell_type": "code",
   "execution_count": 3,
   "id": "d177b9c0",
   "metadata": {},
   "outputs": [],
   "source": [
    "modality = 'cite'"
   ]
  },
  {
   "cell_type": "code",
   "execution_count": 4,
   "id": "ac224e68",
   "metadata": {},
   "outputs": [],
   "source": [
    "path = paths[modality]\n",
    "assert os.path.exists(path)"
   ]
  },
  {
   "cell_type": "code",
   "execution_count": null,
   "id": "35604734",
   "metadata": {},
   "outputs": [],
   "source": [
    "df = pd.DataFrame.sparse.from_spmatrix(\n",
    "    sparse.load_npz(path), \n",
    "    columns=list(np.load(paths[f'{modality}_cols'], allow_pickle=True)['columns'])\n",
    ")"
   ]
  },
  {
   "cell_type": "code",
   "execution_count": null,
   "id": "2b64a649",
   "metadata": {},
   "outputs": [],
   "source": [
    "df.head()"
   ]
  },
  {
   "cell_type": "code",
   "execution_count": null,
   "id": "ea996af0",
   "metadata": {},
   "outputs": [],
   "source": [
    "def perform(\n",
    "    df,\n",
    "    modality,\n",
    "    filter_empty_genes = True,\n",
    "    normalize='batch_mean_center', \n",
    "    rescale=None, \n",
    "    save_dir='/scratch/st-jiaruid-1/shenoy/data/'\n",
    "):\n",
    "    print (f'Filter Empty Genes: {filter_empty_genes}')\n",
    "    if filter_empty_genes:\n",
    "        df = scprep.filter.filter_empty_genes(df)\n",
    "    \n",
    "    print (f'Normalizing using : {normalize}')\n",
    "    if normalize == 'batch_mean_center':\n",
    "        df = df.sparse.to_dense()\n",
    "        df = scprep.normalize.batch_mean_center(df)\n",
    "    elif normalize == 'library_size_normalize':\n",
    "        if rescale is None:\n",
    "            df = scprep.normalize.library_size_normalize(df)\n",
    "        else:\n",
    "            df = scprep.normalize.library_size_normalize(df, rescale=rescale)\n",
    "    \n",
    "    print (f'Performing SVD to 128 dimensions')\n",
    "    svd = TruncatedSVD(n_components=128)\n",
    "    df = svd.fit_transform(df)\n",
    "    \n",
    "    # save at save_dir\n",
    "    filename = f'{modality}_filtergenes_{filter_empty_genes}_{normalize}_rescale{str(rescale)}_128.pkl'\n",
    "    path = os.path.join(save_dir, filename)\n",
    "    print (f'Saving Now @ {path}')\n",
    "    with open(path, 'wb') as f:\n",
    "        pickle.dump(df, f)"
   ]
  },
  {
   "cell_type": "code",
   "execution_count": null,
   "id": "cfaeef99",
   "metadata": {},
   "outputs": [],
   "source": [
    "perform(\n",
    "    df, \n",
    "    modality,\n",
    "    filter_empty_genes = True,\n",
    "    normalize='batch_mean_center', \n",
    "    rescale=None,   \n",
    ")\n",
    "perform(\n",
    "    df, \n",
    "    modality,    \n",
    "    filter_empty_genes = True,\n",
    "    normalize='library_size_normalize', \n",
    "    rescale=None,   \n",
    ")\n",
    "perform(\n",
    "    df, \n",
    "    modality,    \n",
    "    filter_empty_genes = True,\n",
    "    normalize='library_size_normalize', \n",
    "    rescale='mean',   \n",
    ")\n",
    "perform(\n",
    "    df, \n",
    "    modality,    \n",
    "    filter_empty_genes = True,\n",
    "    normalize='library_size_normalize', \n",
    "    rescale='median',   \n",
    ")"
   ]
  },
  {
   "cell_type": "markdown",
   "id": "9596b094",
   "metadata": {},
   "source": [
    "#### Initial Analysis with ScPrep"
   ]
  },
  {
   "cell_type": "code",
   "execution_count": 7,
   "id": "bbdb7db7",
   "metadata": {
    "scrolled": false
   },
   "outputs": [
    {
     "data": {
      "image/png": "[encoded data removed]",
      "text/plain": [
       "<Figure size 432x288 with 1 Axes>"
      ]
     },
     "metadata": {
      "needs_background": "light"
     },
     "output_type": "display_data"
    }
   ],
   "source": [
    "# scprep.plot.plot_library_size(df)\n",
    "# plt.show()\n",
    "# scprep.plot.plot_gene_set_expression(df)\n",
    "# plt.show()"
   ]
  },
  {
   "cell_type": "markdown",
   "id": "29ad2c46",
   "metadata": {},
   "source": [
    "#### Try different Normalization\n",
    "1) Batch Mean Center <br>\n",
    "2) Library Size Normalize"
   ]
  },
  {
   "cell_type": "code",
   "execution_count": 9,
   "id": "2ec78784",
   "metadata": {},
   "outputs": [],
   "source": [
    "dense_df = df.sparse.to_dense()\n",
    "del df"
   ]
  },
  {
   "cell_type": "code",
   "execution_count": 10,
   "id": "0ec95936",
   "metadata": {},
   "outputs": [],
   "source": [
    "df = scprep.normalize.batch_mean_center(dense_df)"
   ]
  },
  {
   "cell_type": "code",
   "execution_count": 11,
   "id": "6ea50a96",
   "metadata": {
    "scrolled": true
   },
   "outputs": [
    {
     "name": "stderr",
     "output_type": "stream",
     "text": [
      "/scratch/st-jiaruid-1/shenoy/ml-gpu/lib/python3.6/site-packages/scprep/select.py:370: UserWarning: No selection conditions provided. Returning all columns.\n",
      "  \"No selection conditions provided. Returning all columns.\", UserWarning\n"
     ]
    },
    {
     "data": {
      "image/png": "[encoded data removed]",
      "text/plain": [
       "<Figure size 432x288 with 1 Axes>"
      ]
     },
     "metadata": {
      "needs_background": "light"
     },
     "output_type": "display_data"
    },
    {
     "data": {
      "image/png": "[encoded data removed]",
      "text/plain": [
       "<Figure size 432x288 with 1 Axes>"
      ]
     },
     "metadata": {
      "needs_background": "light"
     },
     "output_type": "display_data"
    }
   ],
   "source": [
    "scprep.plot.plot_gene_set_expression(df)\n",
    "plt.show()\n",
    "scprep.plot.plot_library_size(df)\n",
    "plt.show()"
   ]
  },
  {
   "cell_type": "code",
   "execution_count": 16,
   "id": "08c4ed23",
   "metadata": {},
   "outputs": [],
   "source": [
    "df = scprep.normalize.library_size_normalize(dense_df, rescale='median')"
   ]
  },
  {
   "cell_type": "code",
   "execution_count": 17,
   "id": "6992cce0",
   "metadata": {
    "scrolled": true
   },
   "outputs": [
    {
     "name": "stderr",
     "output_type": "stream",
     "text": [
      "/scratch/st-jiaruid-1/shenoy/ml-gpu/lib/python3.6/site-packages/scprep/select.py:370: UserWarning: No selection conditions provided. Returning all columns.\n",
      "  \"No selection conditions provided. Returning all columns.\", UserWarning\n"
     ]
    },
    {
     "data": {
      "image/png": "[encoded data removed]",
      "text/plain": [
       "<Figure size 432x288 with 1 Axes>"
      ]
     },
     "metadata": {
      "needs_background": "light"
     },
     "output_type": "display_data"
    },
    {
     "data": {
      "image/png": "[encoded data removed]",
      "text/plain": [
       "<Figure size 432x288 with 1 Axes>"
      ]
     },
     "metadata": {
      "needs_background": "light"
     },
     "output_type": "display_data"
    }
   ],
   "source": [
    "scprep.plot.plot_gene_set_expression(df)\n",
    "plt.show()\n",
    "scprep.plot.plot_library_size(df)\n",
    "plt.show()"
   ]
  },
  {
   "cell_type": "markdown",
   "id": "a4bad6d4",
   "metadata": {},
   "source": [
    "#### dimensionality reduction"
   ]
  },
  {
   "cell_type": "code",
   "execution_count": 20,
   "id": "1ac7ad6a",
   "metadata": {},
   "outputs": [],
   "source": [
    "svd = TruncatedSVD(n_components=128)"
   ]
  },
  {
   "cell_type": "code",
   "execution_count": 21,
   "id": "4b81422d",
   "metadata": {},
   "outputs": [],
   "source": [
    "df_final = svd.fit_transform(df)"
   ]
  },
  {
   "cell_type": "code",
   "execution_count": null,
   "id": "0005f831",
   "metadata": {},
   "outputs": [],
   "source": []
  }
 ],
 "metadata": {
  "kernelspec": {
   "display_name": "audit-ml",
   "language": "python",
   "name": "audit-ml"
  },
  "language_info": {
   "codemirror_mode": {
    "name": "ipython",
    "version": 3
   },
   "file_extension": ".py",
   "mimetype": "text/x-python",
   "name": "python",
   "nbconvert_exporter": "python",
   "pygments_lexer": "ipython3",
   "version": "3.6.13"
  }
 },
 "nbformat": 4,
 "nbformat_minor": 5
}
