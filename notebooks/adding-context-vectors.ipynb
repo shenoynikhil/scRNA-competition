{
 "cells": [
  {
   "cell_type": "code",
   "execution_count": 1,
   "id": "91740d11",
   "metadata": {},
   "outputs": [],
   "source": [
    "import argparse\n",
    "import gc\n",
    "import numpy as np\n",
    "import pandas as pd\n",
    "import logging\n",
    "import pickle\n",
    "from datetime import datetime\n",
    "from os import makedirs\n",
    "from os.path import join\n",
    "from pathlib import Path\n",
    "\n",
    "import yaml\n",
    "from scipy.sparse import load_npz\n",
    "import scipy\n",
    "from sklearn.decomposition import TruncatedSVD\n",
    "\n",
    "seed = 42\n",
    "SAVE_DIR = \"/scratch/st-jiaruid-1/shenoy/svd-comp/\""
   ]
  },
  {
   "cell_type": "code",
   "execution_count": 2,
   "id": "d53c4f2e",
   "metadata": {},
   "outputs": [],
   "source": [
    "paths = {\n",
    "    'multiome': \n",
    "    {        \n",
    "        'x': '/arc/project/st-jiaruid-1/yinian/multiome/svd-comp/train_input_multiome_svd128.pkl',\n",
    "        'y': '/arc/project/st-jiaruid-1/yinian/multiome/sparse-data/train_multi_targets_values.sparse.npz',\n",
    "        'x_test': '/arc/project/st-jiaruid-1/yinian/multiome/svd-comp/test_input_multiome_svd128.pkl',\n",
    "        'x_cols': '/arc/project/st-jiaruid-1/yinian/multiome/sparse-data/train_multi_inputs_idxcol.npz',\n",
    "        'y_cols': '/arc/project/st-jiaruid-1/yinian/multiome/sparse-data/train_multi_targets_idxcol.npz',\n",
    "        'x_test_cols': '/arc/project/st-jiaruid-1/yinian/multiome/sparse-data/test_multi_inputs_idxcol.npz'\n",
    "    },\n",
    "    'cite':\n",
    "    {\n",
    "        'x': '/arc/project/st-jiaruid-1/yinian/multiome/svd-comp/train_input_cite_svd128.pkl',\n",
    "        'y': '/arc/project/st-jiaruid-1/yinian/multiome/sparse-data/train_cite_targets_values.sparse.npz',\n",
    "        'x_test': '/arc/project/st-jiaruid-1/yinian/multiome/svd-comp/test_input_cite_svd128.pkl',\n",
    "        'x_cols': '/arc/project/st-jiaruid-1/yinian/multiome/sparse-data/train_cite_inputs_idxcol.npz',\n",
    "        'y_cols': '/arc/project/st-jiaruid-1/yinian/multiome/sparse-data/train_cite_targets_idxcol.npz',\n",
    "        'x_test_cols': '/arc/project/st-jiaruid-1/yinian/multiome/sparse-data/test_cite_inputs_idxcol.npz',\n",
    "    }\n",
    "}"
   ]
  },
  {
   "cell_type": "code",
   "execution_count": 51,
   "id": "f7e2a530",
   "metadata": {},
   "outputs": [],
   "source": [
    "modality = 'cite'"
   ]
  },
  {
   "cell_type": "code",
   "execution_count": 52,
   "id": "201b6c5a",
   "metadata": {},
   "outputs": [],
   "source": [
    "# Load Data\n",
    "x = np.load(paths[modality][\"x\"], allow_pickle=True)\n",
    "x_test = np.load(paths[modality][\"x_test\"], allow_pickle=True)"
   ]
  },
  {
   "cell_type": "code",
   "execution_count": 53,
   "id": "2bd5cc22",
   "metadata": {},
   "outputs": [],
   "source": [
    "x_cols = np.load(paths[modality][\"x_cols\"], allow_pickle=True)\n",
    "x_test_cols = np.load(paths[modality]['x_test_cols'], allow_pickle=True)"
   ]
  },
  {
   "cell_type": "code",
   "execution_count": 54,
   "id": "f25484c7",
   "metadata": {},
   "outputs": [],
   "source": [
    "assert x.shape[0] == len(x_cols['index']) and (x_test.shape[0] == len(x_test_cols['index']))"
   ]
  },
  {
   "cell_type": "code",
   "execution_count": 55,
   "id": "269ce479",
   "metadata": {},
   "outputs": [],
   "source": [
    "metadata = pd.read_csv('/arc/project/st-jiaruid-1/yinian/multiome/metadata.csv')\n",
    "metadata_ = metadata[metadata['cell_id'].isin(list(x_cols['index']) + list(x_test_cols['index']))].reset_index(drop=True)"
   ]
  },
  {
   "cell_type": "code",
   "execution_count": 80,
   "id": "020a15f9",
   "metadata": {},
   "outputs": [],
   "source": [
    "x_df = pd.DataFrame(\n",
    "    np.vstack([x, x_test]), \n",
    "    index=list(x_cols['index']) + list(x_test_cols['index'])\n",
    ")"
   ]
  },
  {
   "cell_type": "code",
   "execution_count": 81,
   "id": "f3cdc524",
   "metadata": {},
   "outputs": [
    {
     "data": {
      "text/plain": [
       "(119651, 128)"
      ]
     },
     "execution_count": 81,
     "metadata": {},
     "output_type": "execute_result"
    }
   ],
   "source": [
    "x_df.shape"
   ]
  },
  {
   "cell_type": "code",
   "execution_count": 82,
   "id": "ac3ce1bc",
   "metadata": {},
   "outputs": [],
   "source": [
    "add_components = 10"
   ]
  },
  {
   "cell_type": "code",
   "execution_count": 83,
   "id": "8875232a",
   "metadata": {},
   "outputs": [
    {
     "name": "stdout",
     "output_type": "stream",
     "text": [
      "2 27678 7476\n",
      "2 32606 7476\n",
      "2 13176 6071\n",
      "2 31800 8395\n",
      "3 27678 6488\n",
      "3 32606 6999\n",
      "3 13176 7643\n",
      "3 31800 6259\n",
      "4 27678 7832\n",
      "4 32606 9511\n",
      "4 13176 8485\n",
      "4 31800 10149\n",
      "7 27678 6247\n",
      "7 32606 7254\n",
      "7 13176 7195\n",
      "7 31800 6171\n"
     ]
    }
   ],
   "source": [
    "add_df_dict = {}\n",
    "\n",
    "for day in metadata_['day'].unique():\n",
    "    for donor in metadata_['donor'].unique():\n",
    "        # get ids corresponding\n",
    "        cell_ids = metadata_[(metadata_.day == day) & (metadata_.donor == donor)]['cell_id'].tolist()\n",
    "        if len(cell_ids) == 0: continue\n",
    "        print (day, donor, len(cell_ids))\n",
    "        \n",
    "        pca = TruncatedSVD(n_components=add_components)\n",
    "        test_df = pca.fit_transform(x_df.loc[cell_ids])\n",
    "        add_df_dict[f'{day}_{donor}'] = test_df.mean(0)"
   ]
  },
  {
   "cell_type": "code",
   "execution_count": 84,
   "id": "b5d4e8d5",
   "metadata": {},
   "outputs": [],
   "source": [
    "for i in range(add_components):\n",
    "    x_df[f'col_{i}'] = 0"
   ]
  },
  {
   "cell_type": "code",
   "execution_count": 85,
   "id": "5e5438bc",
   "metadata": {},
   "outputs": [
    {
     "data": {
      "text/plain": [
       "True"
      ]
     },
     "execution_count": 85,
     "metadata": {},
     "output_type": "execute_result"
    }
   ],
   "source": [
    "metadata_.shape[0] == x_df.shape[0]"
   ]
  },
  {
   "cell_type": "code",
   "execution_count": 86,
   "id": "13f786e2",
   "metadata": {},
   "outputs": [
    {
     "name": "stdout",
     "output_type": "stream",
     "text": [
      "(119651, 138)\n",
      "Using mean from day: 2 and donor : 27678\n",
      "Using mean from day: 2 and donor : 32606\n",
      "Using mean from day: 2 and donor : 13176\n",
      "Using mean from day: 2 and donor : 31800\n",
      "Using mean from day: 3 and donor : 27678\n",
      "Using mean from day: 3 and donor : 32606\n",
      "Using mean from day: 3 and donor : 13176\n",
      "Using mean from day: 3 and donor : 31800\n",
      "Using mean from day: 4 and donor : 27678\n",
      "Using mean from day: 4 and donor : 32606\n",
      "Using mean from day: 4 and donor : 13176\n",
      "Using mean from day: 4 and donor : 31800\n"
     ]
    }
   ],
   "source": [
    "x_df_numpy = x_df.to_numpy()\n",
    "print (x_df_numpy.shape)\n",
    "for i, day in enumerate(metadata_['day'].unique()):\n",
    "    for donor in metadata_['donor'].unique():\n",
    "        # do replacement\n",
    "        if day > 2:\n",
    "            indices = metadata_[(metadata_.day == day) & (metadata_.donor == donor)].index.tolist()\n",
    "            if len(indices) == 0: continue\n",
    "            day_used = metadata_['day'].unique()[i - 1]\n",
    "            print (f'Using mean from day: {day_used} and donor : {donor}')\n",
    "            x_df_numpy[indices, 128:] = add_df_dict[f'{day_used}_{donor}']"
   ]
  },
  {
   "cell_type": "code",
   "execution_count": 87,
   "id": "7a134fd6",
   "metadata": {},
   "outputs": [],
   "source": [
    "df_sanity_check=pd.DataFrame(\n",
    "    x_df_numpy,\n",
    "    index=list(x_cols['index']) + list(x_test_cols['index'])\n",
    ")"
   ]
  },
  {
   "cell_type": "code",
   "execution_count": 88,
   "id": "d5e0f28c",
   "metadata": {},
   "outputs": [],
   "source": [
    "indices = metadata_[(metadata_.day == 2)].index.tolist()\n",
    "\n",
    "# everything should be 0\n",
    "assert (df_sanity_check.iloc[indices, 128:] == 0.0).all().all()"
   ]
  },
  {
   "cell_type": "code",
   "execution_count": 89,
   "id": "d668c76a",
   "metadata": {},
   "outputs": [],
   "source": [
    "x_new, x_test_new = (\n",
    "    df_sanity_check.iloc[:len(list(x_cols['index']))].to_numpy(),\n",
    "    df_sanity_check.iloc[len(list(x_cols['index'])):].to_numpy(),\n",
    ")"
   ]
  },
  {
   "cell_type": "code",
   "execution_count": 90,
   "id": "8344bb52",
   "metadata": {},
   "outputs": [],
   "source": [
    "assert (x_new.shape[0] == x.shape[0]) and (x_test_new.shape[0] == x_test.shape[0])"
   ]
  },
  {
   "cell_type": "code",
   "execution_count": 91,
   "id": "a059f073",
   "metadata": {},
   "outputs": [],
   "source": [
    "input_type = modality\n",
    "input_dim = 128\n",
    "pickle.dump(\n",
    "    x_new,\n",
    "    open(join(SAVE_DIR, f\"train_input_{input_type}_{input_dim}_ctxt_addn_comp_{add_components}.pkl\"), \"wb\"),\n",
    ")\n",
    "pickle.dump(\n",
    "    x_test_new,\n",
    "    open(join(SAVE_DIR, f\"test_input_{input_type}_{input_dim}_ctxt_addn_comp_{add_components}.pkl\"), \"wb\"),\n",
    ")"
   ]
  },
  {
   "cell_type": "code",
   "execution_count": null,
   "id": "5d9ee325",
   "metadata": {},
   "outputs": [],
   "source": []
  },
  {
   "cell_type": "code",
   "execution_count": null,
   "id": "66352b0f",
   "metadata": {},
   "outputs": [],
   "source": []
  }
 ],
 "metadata": {
  "kernelspec": {
   "display_name": "gpu",
   "language": "python",
   "name": "gpu"
  },
  "language_info": {
   "codemirror_mode": {
    "name": "ipython",
    "version": 3
   },
   "file_extension": ".py",
   "mimetype": "text/x-python",
   "name": "python",
   "nbconvert_exporter": "python",
   "pygments_lexer": "ipython3",
   "version": "3.9.13"
  }
 },
 "nbformat": 4,
 "nbformat_minor": 5
}
