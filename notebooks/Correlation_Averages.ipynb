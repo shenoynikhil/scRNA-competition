{
 "cells": [
  {
   "cell_type": "markdown",
   "id": "48bcb43c",
   "metadata": {},
   "source": [
    "# Correlation using data averages"
   ]
  },
  {
   "cell_type": "code",
   "execution_count": 8,
   "id": "a3ac2bbc",
   "metadata": {},
   "outputs": [],
   "source": [
    "import os\n",
    "import gc\n",
    "\n",
    "os.environ[\"NUMBA_CACHE_DIR\"] = \"/scratch/st-jiaruid-1/yinian/tmp/\"  # https://github.com/scverse/scanpy/issues/2113\n",
    "from os.path import basename, join\n",
    "from os import makedirs\n",
    "from pathlib import Path\n",
    "import yaml\n",
    "\n",
    "import logging\n",
    "import anndata as ad\n",
    "import pickle\n",
    "import numpy as np\n",
    "import pandas as pd\n",
    "import scanpy as sc\n",
    "import scipy\n",
    "\n",
    "import h5py\n",
    "import hdf5plugin\n",
    "import tables\n",
    "\n",
    "import math\n",
    "\n",
    "from sklearn.preprocessing import binarize\n",
    "from sklearn.decomposition import TruncatedSVD"
   ]
  },
  {
   "cell_type": "code",
   "execution_count": 13,
   "id": "585f9aa0",
   "metadata": {},
   "outputs": [],
   "source": [
    "def correlation_score(y_true, y_pred):\n",
    "    \"\"\"Scores the predictions according to the competition rules.\n",
    "\n",
    "    It is assumed that the predictions are not constant.\n",
    "\n",
    "    Returns the average of each sample's Pearson correlation coefficient\n",
    "\n",
    "    Source: https://www.kaggle.com/code/xiafire/lb-t15-msci-multiome-catboostregressor#Predicting\n",
    "    \"\"\"\n",
    "    if y_true.shape != y_pred.shape:\n",
    "        raise ValueError(\"Shapes are different.\")\n",
    "    corrsum = 0\n",
    "    for i in range(len(y_true)):\n",
    "        corrsum += np.corrcoef(y_true[i], y_pred[i])[1, 0]\n",
    "    return corrsum / len(y_true)"
   ]
  },
  {
   "cell_type": "markdown",
   "id": "60368d03",
   "metadata": {},
   "source": [
    "## CITE"
   ]
  },
  {
   "cell_type": "code",
   "execution_count": 3,
   "id": "bff95c8d",
   "metadata": {},
   "outputs": [],
   "source": [
    "def load_data_as_anndata(filepaths, metadata_path):\n",
    "    \"\"\"\n",
    "    Loads the files in <filepaths> as AnnData objects\n",
    "\n",
    "    Source: https://github.com/openproblems-bio/neurips_2022_saturn_notebooks/blob/main/notebooks/loading_and_visualizing_all_data.ipynb\n",
    "    \"\"\"\n",
    "    metadata_df = pd.read_csv(metadata_path)\n",
    "    metadata_df = metadata_df.set_index(\"cell_id\")\n",
    "\n",
    "    adatas = {}\n",
    "    chunk_size = 10000\n",
    "    for name, filepath in filepaths.items():\n",
    "        filename = basename(filepath)[:-3]\n",
    "        logging.info(f\"Loading {filename}\")\n",
    "\n",
    "        h5_file = h5py.File(filepath)\n",
    "        h5_data = h5_file[filename]\n",
    "\n",
    "        features = h5_data[\"axis0\"][:]\n",
    "        cell_ids = h5_data[\"axis1\"][:]\n",
    "\n",
    "        features = features.astype(str)\n",
    "        cell_ids = cell_ids.astype(str)\n",
    "\n",
    "        technology = metadata_df.loc[cell_ids, \"technology\"].unique().item()\n",
    "\n",
    "        sparse_chunks = []\n",
    "        n_cells = h5_data[\"block0_values\"].shape[0]\n",
    "\n",
    "        for chunk_indices in np.array_split(np.arange(n_cells), 100):\n",
    "            chunk = h5_data[\"block0_values\"][chunk_indices]\n",
    "            sparse_chunk = scipy.sparse.csr_matrix(chunk)\n",
    "            sparse_chunks.append(sparse_chunk)\n",
    "\n",
    "        X = scipy.sparse.vstack(sparse_chunks)\n",
    "\n",
    "        adata = ad.AnnData(\n",
    "            X=X,\n",
    "            obs=metadata_df.loc[cell_ids],\n",
    "            var=pd.DataFrame(index=features),\n",
    "        )\n",
    "\n",
    "        adatas[name] = adata\n",
    "\n",
    "    return adatas"
   ]
  },
  {
   "cell_type": "code",
   "execution_count": 67,
   "id": "b5b38a20",
   "metadata": {},
   "outputs": [],
   "source": [
    "config = yaml.safe_load(Path('/scratch/st-jiaruid-1/yinian/my_jupyter/scRNA-competition/experiments/basic-nn-cite.yaml').read_text())\n",
    "adatas = load_data_as_anndata(config['paths'], config['metadata'])"
   ]
  },
  {
   "cell_type": "code",
   "execution_count": 68,
   "id": "90b1a936",
   "metadata": {},
   "outputs": [],
   "source": [
    "x_train = adatas['x']\n",
    "x_test = adatas['x_test']\n",
    "y_train = adatas['y']\n",
    "# combined_data = ad.concat([x_train, x_test])"
   ]
  },
  {
   "cell_type": "code",
   "execution_count": 69,
   "id": "550b08e3",
   "metadata": {},
   "outputs": [],
   "source": [
    "validation_ids = np.load('/arc/project/st-jiaruid-1/yinian/multiome/cite_val_set_5000_0.75_day_7.npy', allow_pickle=True)"
   ]
  },
  {
   "cell_type": "code",
   "execution_count": 70,
   "id": "f8f1c187",
   "metadata": {},
   "outputs": [],
   "source": [
    "x_validation = x_train[validation_ids]\n",
    "x_train = x_train[list(set(x_train.obs_names).difference(validation_ids))]\n",
    "y_validation = y_train[validation_ids]\n",
    "y_train = y_train[list(set(y_train.obs_names).difference(validation_ids))]"
   ]
  },
  {
   "cell_type": "markdown",
   "id": "ed1cde97",
   "metadata": {},
   "source": [
    "### Correlation on a uniform random vector from -1 to 1"
   ]
  },
  {
   "cell_type": "code",
   "execution_count": 71,
   "id": "a2c06b3e",
   "metadata": {},
   "outputs": [],
   "source": [
    "np.random.seed(42)"
   ]
  },
  {
   "cell_type": "code",
   "execution_count": 72,
   "id": "a1885fa2",
   "metadata": {},
   "outputs": [
    {
     "data": {
      "text/plain": [
       "-0.0008090604130566115"
      ]
     },
     "execution_count": 72,
     "metadata": {},
     "output_type": "execute_result"
    }
   ],
   "source": [
    "y_random = np.random.rand(5000, 140) * 2 - 1\n",
    "y_true = y_validation.X.toarray()\n",
    "correlation_score(y_true, y_random)"
   ]
  },
  {
   "cell_type": "markdown",
   "id": "6e2a7886",
   "metadata": {},
   "source": [
    "### Correlation on a random vector sampled from Gaussian"
   ]
  },
  {
   "cell_type": "code",
   "execution_count": 73,
   "id": "7451720c",
   "metadata": {},
   "outputs": [
    {
     "data": {
      "text/plain": [
       "-0.0009447022867286958"
      ]
     },
     "execution_count": 73,
     "metadata": {},
     "output_type": "execute_result"
    }
   ],
   "source": [
    "y_random = np.random.randn(5000, 140)\n",
    "correlation_score(y_true, y_random)"
   ]
  },
  {
   "cell_type": "markdown",
   "id": "59a52b9c",
   "metadata": {},
   "source": [
    "### Correlation on the average of the entire dataset"
   ]
  },
  {
   "cell_type": "code",
   "execution_count": 74,
   "id": "d33d8e85",
   "metadata": {},
   "outputs": [
    {
     "data": {
      "text/plain": [
       "0.7919203883032416"
      ]
     },
     "execution_count": 74,
     "metadata": {},
     "output_type": "execute_result"
    }
   ],
   "source": [
    "y_avg = np.average(y_train.X.toarray(), axis=0)\n",
    "correlation_score(y_true, np.vstack([y_avg] * 5000))"
   ]
  },
  {
   "cell_type": "markdown",
   "id": "ce57ec42",
   "metadata": {},
   "source": [
    "### Correlation on the average on each cell type"
   ]
  },
  {
   "cell_type": "code",
   "execution_count": 75,
   "id": "c24edf6d",
   "metadata": {},
   "outputs": [],
   "source": [
    "cell_types = set(y_train.obs['cell_type'])"
   ]
  },
  {
   "cell_type": "code",
   "execution_count": 76,
   "id": "e6a198f9",
   "metadata": {},
   "outputs": [
    {
     "data": {
      "text/plain": [
       "0.8496705689416485"
      ]
     },
     "execution_count": 76,
     "metadata": {},
     "output_type": "execute_result"
    }
   ],
   "source": [
    "total_corr = 0\n",
    "for cell_type in cell_types:\n",
    "    y_cell_type = y_train[y_train.obs['cell_type'] == cell_type]\n",
    "    y_validation_cell_type = y_validation[y_validation.obs['cell_type'] == cell_type]\n",
    "    if len(y_validation_cell_type) == 0:\n",
    "        continue\n",
    "    avg_cell_type = np.average(y_cell_type.X.toarray(), axis=0)\n",
    "    total_corr += correlation_score(\n",
    "        y_validation_cell_type.X.toarray(), np.vstack([avg_cell_type] * len(y_validation_cell_type))\n",
    "    ) * len(y_validation_cell_type)\n",
    "total_corr / 5000"
   ]
  },
  {
   "cell_type": "markdown",
   "id": "18377f92",
   "metadata": {},
   "source": [
    "## Multiome"
   ]
  },
  {
   "cell_type": "code",
   "execution_count": 51,
   "id": "c2586a18",
   "metadata": {},
   "outputs": [],
   "source": [
    "config = yaml.safe_load(Path('/scratch/st-jiaruid-1/yinian/my_jupyter/scRNA-competition/experiments/basic-nn-multiome.yaml').read_text())\n",
    "adatas = load_data_as_anndata(config['paths'], config['metadata'])"
   ]
  },
  {
   "cell_type": "code",
   "execution_count": 52,
   "id": "60db9ce4",
   "metadata": {},
   "outputs": [],
   "source": [
    "x_train = adatas['x']\n",
    "x_test = adatas['x_test']\n",
    "y_train = adatas['y']"
   ]
  },
  {
   "cell_type": "code",
   "execution_count": 53,
   "id": "2f2c797f",
   "metadata": {},
   "outputs": [],
   "source": [
    "validation_ids = np.load('/arc/project/st-jiaruid-1/yinian/multiome/multi_val_set_10000_0.75_day_7.npy', allow_pickle=True)"
   ]
  },
  {
   "cell_type": "code",
   "execution_count": 54,
   "id": "cfb9b20d",
   "metadata": {},
   "outputs": [],
   "source": [
    "x_validation = x_train[validation_ids]\n",
    "x_train = x_train[list(set(x_train.obs_names).difference(validation_ids))]\n",
    "y_validation = y_train[validation_ids]\n",
    "y_train = y_train[list(set(y_train.obs_names).difference(validation_ids))]"
   ]
  },
  {
   "cell_type": "code",
   "execution_count": 55,
   "id": "2d298674",
   "metadata": {},
   "outputs": [],
   "source": [
    "y_true = y_validation.X.toarray()"
   ]
  },
  {
   "cell_type": "markdown",
   "id": "4a00ced0",
   "metadata": {},
   "source": [
    "### Correlation on a uniform random vector from -1 to 1"
   ]
  },
  {
   "cell_type": "code",
   "execution_count": 62,
   "id": "72417c11",
   "metadata": {},
   "outputs": [
    {
     "data": {
      "text/plain": [
       "5.460375985999174e-05"
      ]
     },
     "execution_count": 62,
     "metadata": {},
     "output_type": "execute_result"
    }
   ],
   "source": [
    "y_random = np.random.rand(9999, 23418) * 2 - 1\n",
    "y_true = y_validation.X.toarray()\n",
    "correlation_score(y_true, y_random)"
   ]
  },
  {
   "cell_type": "markdown",
   "id": "32f32803",
   "metadata": {},
   "source": [
    "### Correlation on a random vector sampled from Gaussian"
   ]
  },
  {
   "cell_type": "code",
   "execution_count": 63,
   "id": "20854420",
   "metadata": {},
   "outputs": [
    {
     "data": {
      "text/plain": [
       "-2.9084550279502755e-06"
      ]
     },
     "execution_count": 63,
     "metadata": {},
     "output_type": "execute_result"
    }
   ],
   "source": [
    "y_random = np.random.randn(9999, 23418)\n",
    "correlation_score(y_true, y_random)"
   ]
  },
  {
   "cell_type": "markdown",
   "id": "20713284",
   "metadata": {},
   "source": [
    "### Correlation on the average of the entire dataset"
   ]
  },
  {
   "cell_type": "code",
   "execution_count": 64,
   "id": "bb851f4b",
   "metadata": {},
   "outputs": [
    {
     "data": {
      "text/plain": [
       "0.5945994044835909"
      ]
     },
     "execution_count": 64,
     "metadata": {},
     "output_type": "execute_result"
    }
   ],
   "source": [
    "y_avg = np.average(y_train.X.toarray(), axis=0)\n",
    "correlation_score(y_true, np.vstack([y_avg] * 9999))"
   ]
  },
  {
   "cell_type": "markdown",
   "id": "74f26568",
   "metadata": {},
   "source": [
    "### Correlation on the average of each cell type"
   ]
  },
  {
   "cell_type": "code",
   "execution_count": 65,
   "id": "6d0b8793",
   "metadata": {},
   "outputs": [],
   "source": [
    "cell_types = set(y_train.obs['cell_type'])"
   ]
  },
  {
   "cell_type": "code",
   "execution_count": 66,
   "id": "1f8fed73",
   "metadata": {},
   "outputs": [
    {
     "data": {
      "text/plain": [
       "0.6105872028499381"
      ]
     },
     "execution_count": 66,
     "metadata": {},
     "output_type": "execute_result"
    }
   ],
   "source": [
    "total_corr = 0\n",
    "for cell_type in cell_types:\n",
    "    if cell_type == 'hidden':\n",
    "        continue\n",
    "    y_cell_type = y_train[y_train.obs['cell_type'] == cell_type]\n",
    "    y_validation_cell_type = y_validation[y_validation.obs['cell_type'] == cell_type]\n",
    "    if len(y_validation_cell_type) == 0:\n",
    "        continue\n",
    "    avg_cell_type = np.average(y_cell_type.X.toarray(), axis=0)\n",
    "    total_corr += correlation_score(\n",
    "        y_validation_cell_type.X.toarray(), np.vstack([avg_cell_type] * len(y_validation_cell_type))\n",
    "    ) * len(y_validation_cell_type)\n",
    "total_corr / 9999"
   ]
  }
 ],
 "metadata": {
  "kernelspec": {
   "display_name": "gpu",
   "language": "python",
   "name": "gpu"
  },
  "language_info": {
   "codemirror_mode": {
    "name": "ipython",
    "version": 3
   },
   "file_extension": ".py",
   "mimetype": "text/x-python",
   "name": "python",
   "nbconvert_exporter": "python",
   "pygments_lexer": "ipython3",
   "version": "3.9.13"
  }
 },
 "nbformat": 4,
 "nbformat_minor": 5
}
