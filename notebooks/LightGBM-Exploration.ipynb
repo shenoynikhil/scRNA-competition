{
 "cells": [
  {
   "cell_type": "markdown",
   "id": "5cfc871a",
   "metadata": {},
   "source": [
    "#### Imports"
   ]
  },
  {
   "cell_type": "code",
   "execution_count": 1,
   "id": "0b0bb2c6",
   "metadata": {},
   "outputs": [],
   "source": [
    "from lightgbm import LGBMRegressor\n",
    "from sklearn.multioutput import MultiOutputRegressor\n",
    "import gc\n",
    "import pickle\n",
    "from datetime import datetime\n",
    "from os import makedirs\n",
    "from os.path import dirname, join\n",
    "from pathlib import Path\n",
    "\n",
    "import numpy as np\n",
    "import scipy\n",
    "import yaml\n",
    "from sklearn.decomposition import TruncatedSVD\n",
    "from sklearn.model_selection import KFold"
   ]
  },
  {
   "cell_type": "markdown",
   "id": "309b380a",
   "metadata": {},
   "source": [
    "#### Utils"
   ]
  },
  {
   "cell_type": "code",
   "execution_count": 2,
   "id": "2583a7ce",
   "metadata": {},
   "outputs": [],
   "source": [
    "def correlation_score(y_true, y_pred):\n",
    "    \"\"\"Scores the predictions according to the competition rules.\n",
    "\n",
    "    It is assumed that the predictions are not constant.\n",
    "\n",
    "    Returns the average of each sample's Pearson correlation coefficient\n",
    "\n",
    "    Source: https://www.kaggle.com/code/xiafire/lb-t15-msci-multiome-catboostregressor#Predicting\n",
    "    \"\"\"\n",
    "    if y_true.shape != y_pred.shape:\n",
    "        raise ValueError(\"Shapes are different.\")\n",
    "    corrsum = 0\n",
    "    for i in range(len(y_true)):\n",
    "        corrsum += np.corrcoef(y_true[i], y_pred[i])[1, 0]\n",
    "    return corrsum / len(y_true)"
   ]
  },
  {
   "cell_type": "code",
   "execution_count": 3,
   "id": "3ceecda0",
   "metadata": {},
   "outputs": [],
   "source": [
    "config = {\n",
    "    \"output_dir\": \"/scratch/st-jiaruid-1/shenoy/projects/scRNA-competition/output/krr-rbf-exp\",\n",
    "    \"paths\": {\n",
    "      \"x\": \"/scratch/st-jiaruid-1/shenoy/svd-comp/train_input_multiome_svd128.pkl\",\n",
    "      \"y\": \"/arc/project/st-jiaruid-1/yinian/multiome/sparse-data/train_multi_targets_values.sparse.npz\",\n",
    "      \"x_test\": \"/scratch/st-jiaruid-1/shenoy/svd-comp/test_input_multiome_svd128.pkl\"\n",
    "    },\n",
    "    \"seed\": 42\n",
    "}"
   ]
  },
  {
   "cell_type": "code",
   "execution_count": 4,
   "id": "b39b03ab",
   "metadata": {},
   "outputs": [
    {
     "name": "stdout",
     "output_type": "stream",
     "text": [
      "CPU times: user 2 µs, sys: 1 µs, total: 3 µs\n",
      "Wall time: 4.77 µs\n"
     ]
    }
   ],
   "source": [
    "# Load Data\n",
    "%time\n",
    "x_train_transformed = pickle.load(open(config[\"paths\"][\"x\"], \"rb\"))"
   ]
  },
  {
   "cell_type": "code",
   "execution_count": 5,
   "id": "5c8a24f8",
   "metadata": {},
   "outputs": [
    {
     "name": "stdout",
     "output_type": "stream",
     "text": [
      "CPU times: user 2 µs, sys: 1e+03 ns, total: 3 µs\n",
      "Wall time: 5.25 µs\n"
     ]
    }
   ],
   "source": [
    "%time\n",
    "x_test_transformed = pickle.load(open(config[\"paths\"][\"x_test\"], \"rb\"))"
   ]
  },
  {
   "cell_type": "code",
   "execution_count": 6,
   "id": "c6a2a0ff",
   "metadata": {},
   "outputs": [
    {
     "name": "stdout",
     "output_type": "stream",
     "text": [
      "CPU times: user 2 µs, sys: 1e+03 ns, total: 3 µs\n",
      "Wall time: 4.53 µs\n"
     ]
    }
   ],
   "source": [
    "%time\n",
    "y = scipy.sparse.load_npz(config[\"paths\"][\"y\"])"
   ]
  },
  {
   "cell_type": "code",
   "execution_count": 7,
   "id": "a31c707e",
   "metadata": {},
   "outputs": [],
   "source": [
    "pca_y = TruncatedSVD(\n",
    "    n_components=1,\n",
    "    random_state=config['seed'],\n",
    ")\n",
    "y_transformed = pca_y.fit_transform(y)"
   ]
  },
  {
   "cell_type": "code",
   "execution_count": 13,
   "id": "c8e9ea98",
   "metadata": {},
   "outputs": [],
   "source": [
    "model = MultiOutputRegressor(\n",
    "    estimator = LGBMRegressor(\n",
    "        n_estimators=200,\n",
    "        objective='mae',\n",
    "        random_state=config['seed']\n",
    "    ),\n",
    "    n_jobs=2\n",
    ")"
   ]
  },
  {
   "cell_type": "code",
   "execution_count": 14,
   "id": "192db6ae",
   "metadata": {},
   "outputs": [
    {
     "name": "stdout",
     "output_type": "stream",
     "text": [
      "CPU times: user 3 µs, sys: 0 ns, total: 3 µs\n",
      "Wall time: 4.77 µs\n"
     ]
    },
    {
     "name": "stderr",
     "output_type": "stream",
     "text": [
      "Traceback (most recent call last):\n",
      "  File \"/arc/project/st-jiaruid-1/yinian/tensorflow-gpu/lib/python3.9/site-packages/psutil/_common.py\", line 398, in wrapper\n",
      "    return cache[key]\n",
      "KeyError: (('/proc',), frozenset())\n",
      "\n",
      "During handling of the above exception, another exception occurred:\n",
      "\n",
      "Traceback (most recent call last):\n",
      "  File \"/arc/project/st-jiaruid-1/yinian/tensorflow-gpu/lib/python3.9/site-packages/psutil/_pslinux.py\", line 285, in <module>\n",
      "    set_scputimes_ntuple(\"/proc\")\n",
      "  File \"/arc/project/st-jiaruid-1/yinian/tensorflow-gpu/lib/python3.9/site-packages/psutil/_common.py\", line 400, in wrapper\n",
      "    ret = cache[key] = fun(*args, **kwargs)\n",
      "  File \"/arc/project/st-jiaruid-1/yinian/tensorflow-gpu/lib/python3.9/site-packages/psutil/_pslinux.py\", line 268, in set_scputimes_ntuple\n",
      "    with open_binary('%s/stat' % procfs_path) as f:\n",
      "  File \"/arc/project/st-jiaruid-1/yinian/tensorflow-gpu/lib/python3.9/site-packages/psutil/_common.py\", line 727, in open_binary\n",
      "    return open(fname, \"rb\", buffering=FILE_READ_BUFFER_SIZE)\n",
      "FileNotFoundError: [Errno 2] No such file or directory: '/proc/stat'\n",
      "Traceback (most recent call last):\n",
      "  File \"/arc/project/st-jiaruid-1/yinian/tensorflow-gpu/lib/python3.9/site-packages/psutil/_common.py\", line 398, in wrapper\n",
      "    return cache[key]\n",
      "KeyError: (('/proc',), frozenset())\n",
      "\n",
      "During handling of the above exception, another exception occurred:\n",
      "\n",
      "Traceback (most recent call last):\n",
      "  File \"/arc/project/st-jiaruid-1/yinian/tensorflow-gpu/lib/python3.9/site-packages/psutil/_pslinux.py\", line 285, in <module>\n",
      "    set_scputimes_ntuple(\"/proc\")\n",
      "  File \"/arc/project/st-jiaruid-1/yinian/tensorflow-gpu/lib/python3.9/site-packages/psutil/_common.py\", line 400, in wrapper\n",
      "    ret = cache[key] = fun(*args, **kwargs)\n",
      "  File \"/arc/project/st-jiaruid-1/yinian/tensorflow-gpu/lib/python3.9/site-packages/psutil/_pslinux.py\", line 268, in set_scputimes_ntuple\n",
      "    with open_binary('%s/stat' % procfs_path) as f:\n",
      "  File \"/arc/project/st-jiaruid-1/yinian/tensorflow-gpu/lib/python3.9/site-packages/psutil/_common.py\", line 727, in open_binary\n",
      "    return open(fname, \"rb\", buffering=FILE_READ_BUFFER_SIZE)\n",
      "FileNotFoundError: [Errno 2] No such file or directory: '/proc/stat'\n",
      "Process LokyProcess-4:\n",
      "Traceback (most recent call last):\n",
      "  File \"/arc/project/st-jiaruid-1/yinian/tensorflow-gpu/lib/python3.9/site-packages/psutil/_common.py\", line 442, in wrapper\n",
      "    ret = self._cache[fun]\n",
      "AttributeError: _cache\n",
      "\n",
      "During handling of the above exception, another exception occurred:\n",
      "\n",
      "Traceback (most recent call last):\n",
      "  File \"/arc/project/st-jiaruid-1/yinian/tensorflow-gpu/lib/python3.9/site-packages/psutil/_pslinux.py\", line 1642, in wrapper\n",
      "    return fun(self, *args, **kwargs)\n",
      "  File \"/arc/project/st-jiaruid-1/yinian/tensorflow-gpu/lib/python3.9/site-packages/psutil/_common.py\", line 445, in wrapper\n",
      "    return fun(self)\n",
      "  File \"/arc/project/st-jiaruid-1/yinian/tensorflow-gpu/lib/python3.9/site-packages/psutil/_pslinux.py\", line 1684, in _parse_stat_file\n",
      "    data = bcat(\"%s/%s/stat\" % (self._procfs_path, self.pid))\n",
      "  File \"/arc/project/st-jiaruid-1/yinian/tensorflow-gpu/lib/python3.9/site-packages/psutil/_common.py\", line 775, in bcat\n",
      "    return cat(fname, fallback=fallback, _open=open_binary)\n",
      "  File \"/arc/project/st-jiaruid-1/yinian/tensorflow-gpu/lib/python3.9/site-packages/psutil/_common.py\", line 763, in cat\n",
      "    with _open(fname) as f:\n",
      "  File \"/arc/project/st-jiaruid-1/yinian/tensorflow-gpu/lib/python3.9/site-packages/psutil/_common.py\", line 727, in open_binary\n",
      "    return open(fname, \"rb\", buffering=FILE_READ_BUFFER_SIZE)\n",
      "FileNotFoundError: [Errno 2] No such file or directory: '/proc/32329/stat'\n",
      "\n",
      "During handling of the above exception, another exception occurred:\n",
      "\n",
      "Traceback (most recent call last):\n",
      "  File \"/arc/project/st-jiaruid-1/yinian/tensorflow-gpu/lib/python3.9/site-packages/psutil/__init__.py\", line 361, in _init\n",
      "    self.create_time()\n",
      "  File \"/arc/project/st-jiaruid-1/yinian/tensorflow-gpu/lib/python3.9/site-packages/psutil/__init__.py\", line 714, in create_time\n",
      "    self._create_time = self._proc.create_time()\n",
      "  File \"/arc/project/st-jiaruid-1/yinian/tensorflow-gpu/lib/python3.9/site-packages/psutil/_pslinux.py\", line 1642, in wrapper\n",
      "    return fun(self, *args, **kwargs)\n",
      "  File \"/arc/project/st-jiaruid-1/yinian/tensorflow-gpu/lib/python3.9/site-packages/psutil/_pslinux.py\", line 1852, in create_time\n",
      "    ctime = float(self._parse_stat_file()['create_time'])\n",
      "  File \"/arc/project/st-jiaruid-1/yinian/tensorflow-gpu/lib/python3.9/site-packages/psutil/_pslinux.py\", line 1649, in wrapper\n",
      "    raise NoSuchProcess(self.pid, self._name)\n",
      "psutil.NoSuchProcess: process no longer exists (pid=32329)\n",
      "\n",
      "During handling of the above exception, another exception occurred:\n",
      "\n",
      "Traceback (most recent call last):\n",
      "  File \"/arc/project/st-jiaruid-1/yinian/tensorflow-gpu/lib/python3.9/multiprocessing/process.py\", line 315, in _bootstrap\n",
      "    self.run()\n",
      "  File \"/arc/project/st-jiaruid-1/yinian/tensorflow-gpu/lib/python3.9/multiprocessing/process.py\", line 108, in run\n",
      "    self._target(*self._args, **self._kwargs)\n",
      "  File \"/arc/project/st-jiaruid-1/yinian/tensorflow-gpu/lib/python3.9/site-packages/joblib/externals/loky/process_executor.py\", line 443, in _process_worker\n",
      "    _process_reference_size = _get_memory_usage(pid, force_gc=True)\n",
      "  File \"/arc/project/st-jiaruid-1/yinian/tensorflow-gpu/lib/python3.9/site-packages/joblib/externals/loky/process_executor.py\", line 110, in _get_memory_usage\n",
      "    mem_size = Process(pid).memory_info().rss\n",
      "  File \"/arc/project/st-jiaruid-1/yinian/tensorflow-gpu/lib/python3.9/site-packages/psutil/__init__.py\", line 332, in __init__\n",
      "    self._init(pid)\n",
      "  File \"/arc/project/st-jiaruid-1/yinian/tensorflow-gpu/lib/python3.9/site-packages/psutil/__init__.py\", line 373, in _init\n",
      "    raise NoSuchProcess(pid, msg='process PID not found')\n",
      "psutil.NoSuchProcess: process PID not found (pid=32329)\n"
     ]
    },
    {
     "data": {
      "text/html": [
       "<style>#sk-container-id-2 {color: black;background-color: white;}#sk-container-id-2 pre{padding: 0;}#sk-container-id-2 div.sk-toggleable {background-color: white;}#sk-container-id-2 label.sk-toggleable__label {cursor: pointer;display: block;width: 100%;margin-bottom: 0;padding: 0.3em;box-sizing: border-box;text-align: center;}#sk-container-id-2 label.sk-toggleable__label-arrow:before {content: \"▸\";float: left;margin-right: 0.25em;color: #696969;}#sk-container-id-2 label.sk-toggleable__label-arrow:hover:before {color: black;}#sk-container-id-2 div.sk-estimator:hover label.sk-toggleable__label-arrow:before {color: black;}#sk-container-id-2 div.sk-toggleable__content {max-height: 0;max-width: 0;overflow: hidden;text-align: left;background-color: #f0f8ff;}#sk-container-id-2 div.sk-toggleable__content pre {margin: 0.2em;color: black;border-radius: 0.25em;background-color: #f0f8ff;}#sk-container-id-2 input.sk-toggleable__control:checked~div.sk-toggleable__content {max-height: 200px;max-width: 100%;overflow: auto;}#sk-container-id-2 input.sk-toggleable__control:checked~label.sk-toggleable__label-arrow:before {content: \"▾\";}#sk-container-id-2 div.sk-estimator input.sk-toggleable__control:checked~label.sk-toggleable__label {background-color: #d4ebff;}#sk-container-id-2 div.sk-label input.sk-toggleable__control:checked~label.sk-toggleable__label {background-color: #d4ebff;}#sk-container-id-2 input.sk-hidden--visually {border: 0;clip: rect(1px 1px 1px 1px);clip: rect(1px, 1px, 1px, 1px);height: 1px;margin: -1px;overflow: hidden;padding: 0;position: absolute;width: 1px;}#sk-container-id-2 div.sk-estimator {font-family: monospace;background-color: #f0f8ff;border: 1px dotted black;border-radius: 0.25em;box-sizing: border-box;margin-bottom: 0.5em;}#sk-container-id-2 div.sk-estimator:hover {background-color: #d4ebff;}#sk-container-id-2 div.sk-parallel-item::after {content: \"\";width: 100%;border-bottom: 1px solid gray;flex-grow: 1;}#sk-container-id-2 div.sk-label:hover label.sk-toggleable__label {background-color: #d4ebff;}#sk-container-id-2 div.sk-serial::before {content: \"\";position: absolute;border-left: 1px solid gray;box-sizing: border-box;top: 0;bottom: 0;left: 50%;z-index: 0;}#sk-container-id-2 div.sk-serial {display: flex;flex-direction: column;align-items: center;background-color: white;padding-right: 0.2em;padding-left: 0.2em;position: relative;}#sk-container-id-2 div.sk-item {position: relative;z-index: 1;}#sk-container-id-2 div.sk-parallel {display: flex;align-items: stretch;justify-content: center;background-color: white;position: relative;}#sk-container-id-2 div.sk-item::before, #sk-container-id-2 div.sk-parallel-item::before {content: \"\";position: absolute;border-left: 1px solid gray;box-sizing: border-box;top: 0;bottom: 0;left: 50%;z-index: -1;}#sk-container-id-2 div.sk-parallel-item {display: flex;flex-direction: column;z-index: 1;position: relative;background-color: white;}#sk-container-id-2 div.sk-parallel-item:first-child::after {align-self: flex-end;width: 50%;}#sk-container-id-2 div.sk-parallel-item:last-child::after {align-self: flex-start;width: 50%;}#sk-container-id-2 div.sk-parallel-item:only-child::after {width: 0;}#sk-container-id-2 div.sk-dashed-wrapped {border: 1px dashed gray;margin: 0 0.4em 0.5em 0.4em;box-sizing: border-box;padding-bottom: 0.4em;background-color: white;}#sk-container-id-2 div.sk-label label {font-family: monospace;font-weight: bold;display: inline-block;line-height: 1.2em;}#sk-container-id-2 div.sk-label-container {text-align: center;}#sk-container-id-2 div.sk-container {/* jupyter's `normalize.less` sets `[hidden] { display: none; }` but bootstrap.min.css set `[hidden] { display: none !important; }` so we also need the `!important` here to be able to override the default hidden behavior on the sphinx rendered scikit-learn.org. See: https://github.com/scikit-learn/scikit-learn/issues/21755 */display: inline-block !important;position: relative;}#sk-container-id-2 div.sk-text-repr-fallback {display: none;}</style><div id=\"sk-container-id-2\" class=\"sk-top-container\"><div class=\"sk-text-repr-fallback\"><pre>MultiOutputRegressor(estimator=LGBMRegressor(n_estimators=200, objective=&#x27;mae&#x27;,\n",
       "                                             random_state=42),\n",
       "                     n_jobs=2)</pre><b>In a Jupyter environment, please rerun this cell to show the HTML representation or trust the notebook. <br />On GitHub, the HTML representation is unable to render, please try loading this page with nbviewer.org.</b></div><div class=\"sk-container\" hidden><div class=\"sk-item sk-dashed-wrapped\"><div class=\"sk-label-container\"><div class=\"sk-label sk-toggleable\"><input class=\"sk-toggleable__control sk-hidden--visually\" id=\"sk-estimator-id-4\" type=\"checkbox\" ><label for=\"sk-estimator-id-4\" class=\"sk-toggleable__label sk-toggleable__label-arrow\">MultiOutputRegressor</label><div class=\"sk-toggleable__content\"><pre>MultiOutputRegressor(estimator=LGBMRegressor(n_estimators=200, objective=&#x27;mae&#x27;,\n",
       "                                             random_state=42),\n",
       "                     n_jobs=2)</pre></div></div></div><div class=\"sk-parallel\"><div class=\"sk-parallel-item\"><div class=\"sk-item\"><div class=\"sk-label-container\"><div class=\"sk-label sk-toggleable\"><input class=\"sk-toggleable__control sk-hidden--visually\" id=\"sk-estimator-id-5\" type=\"checkbox\" ><label for=\"sk-estimator-id-5\" class=\"sk-toggleable__label sk-toggleable__label-arrow\">estimator: LGBMRegressor</label><div class=\"sk-toggleable__content\"><pre>LGBMRegressor(n_estimators=200, objective=&#x27;mae&#x27;, random_state=42)</pre></div></div></div><div class=\"sk-serial\"><div class=\"sk-item\"><div class=\"sk-estimator sk-toggleable\"><input class=\"sk-toggleable__control sk-hidden--visually\" id=\"sk-estimator-id-6\" type=\"checkbox\" ><label for=\"sk-estimator-id-6\" class=\"sk-toggleable__label sk-toggleable__label-arrow\">LGBMRegressor</label><div class=\"sk-toggleable__content\"><pre>LGBMRegressor(n_estimators=200, objective=&#x27;mae&#x27;, random_state=42)</pre></div></div></div></div></div></div></div></div></div></div>"
      ],
      "text/plain": [
       "MultiOutputRegressor(estimator=LGBMRegressor(n_estimators=200, objective='mae',\n",
       "                                             random_state=42),\n",
       "                     n_jobs=2)"
      ]
     },
     "execution_count": 14,
     "metadata": {},
     "output_type": "execute_result"
    }
   ],
   "source": [
    "%time\n",
    "model.fit(x_train_transformed, y_transformed)"
   ]
  },
  {
   "cell_type": "code",
   "execution_count": 10,
   "id": "a7d2f793",
   "metadata": {},
   "outputs": [],
   "source": [
    "score = correlation_score(\n",
    "    y.toarray(), \n",
    "    model.predict(x_train_transformed) @ pca_y.components_\n",
    ")"
   ]
  },
  {
   "cell_type": "code",
   "execution_count": 11,
   "id": "6597e05d",
   "metadata": {},
   "outputs": [
    {
     "name": "stdout",
     "output_type": "stream",
     "text": [
      "Score is -0.6421299203175792\n"
     ]
    }
   ],
   "source": [
    "print (f'Score is {score}')"
   ]
  },
  {
   "cell_type": "code",
   "execution_count": null,
   "id": "651dcc93",
   "metadata": {},
   "outputs": [],
   "source": []
  },
  {
   "cell_type": "code",
   "execution_count": null,
   "id": "88faaf28",
   "metadata": {},
   "outputs": [],
   "source": []
  }
 ],
 "metadata": {
  "kernelspec": {
   "display_name": "gpu",
   "language": "python",
   "name": "gpu"
  },
  "language_info": {
   "codemirror_mode": {
    "name": "ipython",
    "version": 3
   },
   "file_extension": ".py",
   "mimetype": "text/x-python",
   "name": "python",
   "nbconvert_exporter": "python",
   "pygments_lexer": "ipython3",
   "version": "3.9.13"
  }
 },
 "nbformat": 4,
 "nbformat_minor": 5
}
