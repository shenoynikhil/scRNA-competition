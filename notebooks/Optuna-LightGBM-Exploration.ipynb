{
 "cells": [
  {
   "cell_type": "markdown",
   "id": "5cfc871a",
   "metadata": {},
   "source": [
    "#### Imports"
   ]
  },
  {
   "cell_type": "code",
   "execution_count": 1,
   "id": "0b0bb2c6",
   "metadata": {},
   "outputs": [],
   "source": [
    "import optuna\n",
    "from lightgbm import LGBMRegressor\n",
    "from xgboost import XGBRegressor\n",
    "from sklearn.multioutput import MultiOutputRegressor\n",
    "import gc\n",
    "import pickle\n",
    "from datetime import datetime\n",
    "from os import makedirs\n",
    "from os.path import dirname, join\n",
    "from pathlib import Path\n",
    "\n",
    "import numpy as np\n",
    "import scipy\n",
    "import yaml\n",
    "from sklearn.decomposition import TruncatedSVD\n",
    "from sklearn.model_selection import KFold"
   ]
  },
  {
   "cell_type": "markdown",
   "id": "309b380a",
   "metadata": {},
   "source": [
    "#### Utils"
   ]
  },
  {
   "cell_type": "code",
   "execution_count": 2,
   "id": "2583a7ce",
   "metadata": {},
   "outputs": [],
   "source": [
    "def correlation_score(y_true, y_pred):\n",
    "    \"\"\"Scores the predictions according to the competition rules.\n",
    "\n",
    "    It is assumed that the predictions are not constant.\n",
    "\n",
    "    Returns the average of each sample's Pearson correlation coefficient\n",
    "\n",
    "    Source: https://www.kaggle.com/code/xiafire/lb-t15-msci-multiome-catboostregressor#Predicting\n",
    "    \"\"\"\n",
    "    if y_true.shape != y_pred.shape:\n",
    "        raise ValueError(\"Shapes are different.\")\n",
    "    corrsum = 0\n",
    "    for i in range(len(y_true)):\n",
    "        corrsum += np.corrcoef(y_true[i], y_pred[i])[1, 0]\n",
    "    return corrsum / len(y_true)"
   ]
  },
  {
   "cell_type": "code",
   "execution_count": 3,
   "id": "3ceecda0",
   "metadata": {},
   "outputs": [],
   "source": [
    "config = {\n",
    "    \"output_dir\": \"/scratch/st-jiaruid-1/shenoy/projects/scRNA-competition/output/krr-rbf-exp\",\n",
    "    \"paths\": {\n",
    "      \"x\": \"/scratch/st-jiaruid-1/shenoy/svd-comp/train_input_cite_svd128.pkl\",\n",
    "      \"y\": \"/arc/project/st-jiaruid-1/yinian/multiome/sparse-data/train_cite_targets_values.sparse.npz\",\n",
    "      \"x_test\": \"/scratch/st-jiaruid-1/shenoy/svd-comp/test_input_cite_svd128.pkl\"\n",
    "    },\n",
    "    \"seed\": 42\n",
    "}"
   ]
  },
  {
   "cell_type": "code",
   "execution_count": 4,
   "id": "b39b03ab",
   "metadata": {},
   "outputs": [
    {
     "name": "stdout",
     "output_type": "stream",
     "text": [
      "CPU times: user 2 µs, sys: 1 µs, total: 3 µs\n",
      "Wall time: 8.11 µs\n"
     ]
    }
   ],
   "source": [
    "# Load Data\n",
    "%time\n",
    "x_train_transformed = pickle.load(open(config[\"paths\"][\"x\"], \"rb\"))"
   ]
  },
  {
   "cell_type": "code",
   "execution_count": 6,
   "id": "c6a2a0ff",
   "metadata": {},
   "outputs": [
    {
     "name": "stdout",
     "output_type": "stream",
     "text": [
      "CPU times: user 1e+03 ns, sys: 1 µs, total: 2 µs\n",
      "Wall time: 4.53 µs\n"
     ]
    }
   ],
   "source": [
    "%time\n",
    "y = scipy.sparse.load_npz(config[\"paths\"][\"y\"])"
   ]
  },
  {
   "cell_type": "code",
   "execution_count": 7,
   "id": "a31c707e",
   "metadata": {},
   "outputs": [],
   "source": [
    "pca_y = TruncatedSVD(\n",
    "    n_components=1,\n",
    "    random_state=config['seed'],\n",
    ")\n",
    "y_transformed = pca_y.fit_transform(y)"
   ]
  },
  {
   "cell_type": "code",
   "execution_count": 51,
   "id": "4e0d9361",
   "metadata": {},
   "outputs": [],
   "source": [
    "def objective(\n",
    "    trial,\n",
    "    x,\n",
    "    y,\n",
    "    y_orig,\n",
    "    pca_y,\n",
    "    random_state=22,\n",
    "    n_jobs=1,\n",
    "    early_stopping_rounds=50,\n",
    "):\n",
    "    # XGBoost parameters\n",
    "    params = {\n",
    "        \"verbosity\": 1,  # 0 (silent) - 3 (debug)\n",
    "        \"objective\": 'reg:squarederror',\n",
    "        \"n_estimators\": trial.suggest_int(\"n_estimators\", 100, 1000, 50),\n",
    "        \"max_depth\": trial.suggest_int(\"max_depth\", 4, 12),\n",
    "        \"learning_rate\": trial.suggest_float(\"learning_rate\", 0.005, 0.05, log=True),\n",
    "        \"colsample_bytree\": trial.suggest_float(\"colsample_bytree\", 0.2, 0.6, log=True),\n",
    "        \"subsample\": trial.suggest_float(\"subsample\", 0.4, 0.8, log=True),\n",
    "        \"alpha\": trial.suggest_float(\"alpha\", 0.01, 10.0, log=True),\n",
    "        \"lambda\": trial.suggest_float(\"lambda\", 1e-8, 10.0, log=True),\n",
    "        \"gamma\": trial.suggest_float(\"lambda\", 1e-8, 10.0, log=True),\n",
    "        \"min_child_weight\": trial.suggest_float(\"min_child_weight\", 10, 1000, log=True),\n",
    "        \"seed\": random_state,\n",
    "        \"n_jobs\": n_jobs,\n",
    "    }\n",
    "    \n",
    "    n = int(0.8 * x.shape[0]) # let's do random for now\n",
    "    x_train, y_train, x_val, y_val, y_val_orig = (\n",
    "        x[:n, :], y[:n, :], x[n:, :], y[n:, :], y_orig[n:, :]\n",
    "    )\n",
    "    model = MultiOutputRegressor(XGBRegressor(**params))\n",
    "    model.fit(x_train, y_train, verbose=1)\n",
    "    \n",
    "    \n",
    "    return correlation_score(\n",
    "        y_val_orig, \n",
    "        model.predict(x_val) @ pca_y.components_\n",
    "    )"
   ]
  },
  {
   "cell_type": "code",
   "execution_count": 53,
   "id": "88faaf28",
   "metadata": {},
   "outputs": [
    {
     "name": "stderr",
     "output_type": "stream",
     "text": [
      "\u001b[32m[I 2022-10-09 11:44:37,633]\u001b[0m A new study created in memory with name: test-hpo-run\u001b[0m\n"
     ]
    }
   ],
   "source": [
    "study = optuna.create_study(\n",
    "    study_name='test-hpo-run', direction='maximize'\n",
    ")"
   ]
  },
  {
   "cell_type": "code",
   "execution_count": 55,
   "id": "789ccd17",
   "metadata": {},
   "outputs": [
    {
     "name": "stderr",
     "output_type": "stream",
     "text": [
      "\u001b[32m[I 2022-10-09 11:47:42,456]\u001b[0m Trial 0 finished with value: 0.7769128347109914 and parameters: {'n_estimators': 450, 'max_depth': 12, 'learning_rate': 0.014025892758434168, 'colsample_bytree': 0.2384114442215289, 'subsample': 0.4115162088050853, 'alpha': 0.3017706029269441, 'lambda': 0.16488478889979685, 'min_child_weight': 10.973974988642297}. Best is trial 0 with value: 0.7769128347109914.\u001b[0m\n",
      "\u001b[32m[I 2022-10-09 11:49:38,825]\u001b[0m Trial 1 finished with value: 0.7769128347195178 and parameters: {'n_estimators': 450, 'max_depth': 4, 'learning_rate': 0.010100483967230173, 'colsample_bytree': 0.44039978628798326, 'subsample': 0.6661130594385517, 'alpha': 5.939059882360051, 'lambda': 0.0003860942467210062, 'min_child_weight': 278.8769758910916}. Best is trial 1 with value: 0.7769128347195178.\u001b[0m\n"
     ]
    }
   ],
   "source": [
    "study.optimize(\n",
    "    lambda trial: objective(trial, x_train_transformed, y_transformed, y.toarray(), pca_y, random_state=42),\n",
    "    n_trials=2,\n",
    ")"
   ]
  },
  {
   "cell_type": "code",
   "execution_count": 56,
   "id": "e5848da6",
   "metadata": {},
   "outputs": [
    {
     "data": {
      "text/plain": [
       "FrozenTrial(number=1, values=[0.7769128347195178], datetime_start=datetime.datetime(2022, 10, 9, 11, 47, 42, 459055), datetime_complete=datetime.datetime(2022, 10, 9, 11, 49, 38, 824975), params={'n_estimators': 450, 'max_depth': 4, 'learning_rate': 0.010100483967230173, 'colsample_bytree': 0.44039978628798326, 'subsample': 0.6661130594385517, 'alpha': 5.939059882360051, 'lambda': 0.0003860942467210062, 'min_child_weight': 278.8769758910916}, distributions={'n_estimators': IntDistribution(high=1000, log=False, low=100, step=50), 'max_depth': IntDistribution(high=12, log=False, low=4, step=1), 'learning_rate': FloatDistribution(high=0.05, log=True, low=0.005, step=None), 'colsample_bytree': FloatDistribution(high=0.6, log=True, low=0.2, step=None), 'subsample': FloatDistribution(high=0.8, log=True, low=0.4, step=None), 'alpha': FloatDistribution(high=10.0, log=True, low=0.01, step=None), 'lambda': FloatDistribution(high=10.0, log=True, low=1e-08, step=None), 'min_child_weight': FloatDistribution(high=1000.0, log=True, low=10.0, step=None)}, user_attrs={}, system_attrs={}, intermediate_values={}, trial_id=1, state=TrialState.COMPLETE, value=None)"
      ]
     },
     "execution_count": 56,
     "metadata": {},
     "output_type": "execute_result"
    }
   ],
   "source": [
    "study.best_trial"
   ]
  },
  {
   "cell_type": "code",
   "execution_count": null,
   "id": "01e32fa9",
   "metadata": {},
   "outputs": [],
   "source": []
  },
  {
   "cell_type": "code",
   "execution_count": null,
   "id": "cae61708",
   "metadata": {},
   "outputs": [],
   "source": []
  }
 ],
 "metadata": {
  "kernelspec": {
   "display_name": "gpu",
   "language": "python",
   "name": "gpu"
  },
  "language_info": {
   "codemirror_mode": {
    "name": "ipython",
    "version": 3
   },
   "file_extension": ".py",
   "mimetype": "text/x-python",
   "name": "python",
   "nbconvert_exporter": "python",
   "pygments_lexer": "ipython3",
   "version": "3.9.13"
  }
 },
 "nbformat": 4,
 "nbformat_minor": 5
}
