{
 "cells": [
  {
   "cell_type": "code",
   "execution_count": null,
   "id": "91740d11",
   "metadata": {},
   "outputs": [],
   "source": [
    "import argparse\n",
    "import gc\n",
    "import numpy as np\n",
    "import logging\n",
    "import pickle\n",
    "from datetime import datetime\n",
    "from os import makedirs\n",
    "from os.path import join\n",
    "from pathlib import Path\n",
    "\n",
    "import yaml\n",
    "from scipy.sparse import load_npz\n",
    "import scipy\n",
    "from sklearn.decomposition import TruncatedSVD\n",
    "\n",
    "seed = 42\n",
    "SAVE_DIR = \"/scratch/st-jiaruid-1/shenoy/svd-comp/\""
   ]
  },
  {
   "cell_type": "code",
   "execution_count": null,
   "id": "d53c4f2e",
   "metadata": {},
   "outputs": [],
   "source": [
    "paths = {\n",
    "    'multiome': \n",
    "    {\n",
    "      'x': '/arc/project/st-jiaruid-1/yinian/multiome/sparse-data/train_multi_inputs_values.sparse.npz',\n",
    "      'y': '/arc/project/st-jiaruid-1/yinian/multiome/sparse-data/train_multi_targets_values.sparse.npz',\n",
    "      'x_test': '/arc/project/st-jiaruid-1/yinian/multiome/sparse-data/test_multi_inputs_values.sparse.npz'\n",
    "    },\n",
    "    'cite':\n",
    "    {\n",
    "      'x': '/arc/project/st-jiaruid-1/yinian/multiome/sparse-data/train_cite_inputs_values.sparse.npz',\n",
    "      'y': '/arc/project/st-jiaruid-1/yinian/multiome/sparse-data/train_cite_targets_values.sparse.npz',\n",
    "      'x_test': '/arc/project/st-jiaruid-1/yinian/multiome/sparse-data/test_cite_inputs_values.sparse.npz'\n",
    "    }\n",
    "}"
   ]
  },
  {
   "cell_type": "code",
   "execution_count": null,
   "id": "f7e2a530",
   "metadata": {},
   "outputs": [],
   "source": [
    "modality = 'multiome'"
   ]
  },
  {
   "cell_type": "code",
   "execution_count": null,
   "id": "201b6c5a",
   "metadata": {},
   "outputs": [],
   "source": [
    "# Load Data\n",
    "x = load_npz(paths[modality][\"x\"])\n",
    "x_test = load_npz(paths[modality][\"x_test\"])"
   ]
  },
  {
   "cell_type": "markdown",
   "id": "a2fd9dc7",
   "metadata": {},
   "source": [
    "### Only keep `indices`"
   ]
  },
  {
   "cell_type": "code",
   "execution_count": null,
   "id": "62ea6e84",
   "metadata": {},
   "outputs": [],
   "source": [
    "x_stacked = scipy.sparse.vstack([x, x_test])"
   ]
  },
  {
   "cell_type": "code",
   "execution_count": null,
   "id": "5dce9a9b",
   "metadata": {},
   "outputs": [],
   "source": [
    "print (x_stacked.shape)"
   ]
  },
  {
   "cell_type": "code",
   "execution_count": null,
   "id": "d33fa56c",
   "metadata": {},
   "outputs": [],
   "source": [
    "feature_std = np.std(x.toarray(), axis=0)"
   ]
  },
  {
   "cell_type": "code",
   "execution_count": null,
   "id": "4ffbb707",
   "metadata": {},
   "outputs": [],
   "source": [
    "threshold = 0.2\n",
    "indices = [i for i, x in enumerate(np.squeeze(feature_std)) if x > threshold]"
   ]
  },
  {
   "cell_type": "code",
   "execution_count": null,
   "id": "ea90d8d3",
   "metadata": {},
   "outputs": [],
   "source": [
    "len(indices)"
   ]
  },
  {
   "cell_type": "markdown",
   "id": "de733c9e",
   "metadata": {},
   "source": [
    "#### Perform PCA"
   ]
  },
  {
   "cell_type": "code",
   "execution_count": null,
   "id": "932ae478",
   "metadata": {},
   "outputs": [],
   "source": [
    "comp = 200"
   ]
  },
  {
   "cell_type": "code",
   "execution_count": null,
   "id": "94371836",
   "metadata": {},
   "outputs": [],
   "source": [
    "# perform preprocessing\n",
    "# transform x and x_test\n",
    "pca_x = TruncatedSVD(\n",
    "    n_components=comp,\n",
    "    random_state=seed,\n",
    ")\n",
    "\n",
    "x_transformed = pca_x.fit_transform(x_stacked[:, indices])"
   ]
  },
  {
   "cell_type": "code",
   "execution_count": null,
   "id": "93b8da3d",
   "metadata": {},
   "outputs": [],
   "source": [
    "x_train_transformed = x_transformed[: x.shape[0], :]\n",
    "x_test_transformed = x_transformed[x.shape[0] :, :]    \n",
    "del x, x_test\n",
    "gc.collect()"
   ]
  },
  {
   "cell_type": "code",
   "execution_count": null,
   "id": "1f541c52",
   "metadata": {},
   "outputs": [],
   "source": [
    "# save the processed arrays\n",
    "input_dim = comp\n",
    "input_type = modality\n",
    "pickle.dump(\n",
    "    x_train_transformed,\n",
    "    open(join(SAVE_DIR, f\"train_input_{input_type}_{input_dim}_mod.pkl\"), \"wb\"),\n",
    ")\n",
    "pickle.dump(\n",
    "    x_test_transformed,\n",
    "    open(join(SAVE_DIR, f\"test_input_{input_type}_svd{input_dim}_mod.pkl\"), \"wb\"),\n",
    ")"
   ]
  },
  {
   "cell_type": "code",
   "execution_count": null,
   "id": "49c7d6df",
   "metadata": {},
   "outputs": [],
   "source": []
  },
  {
   "cell_type": "code",
   "execution_count": null,
   "id": "66352b0f",
   "metadata": {},
   "outputs": [],
   "source": []
  }
 ],
 "metadata": {
  "kernelspec": {
   "display_name": "gpu",
   "language": "python",
   "name": "gpu"
  },
  "language_info": {
   "codemirror_mode": {
    "name": "ipython",
    "version": 3
   },
   "file_extension": ".py",
   "mimetype": "text/x-python",
   "name": "python",
   "nbconvert_exporter": "python",
   "pygments_lexer": "ipython3",
   "version": "3.9.13"
  }
 },
 "nbformat": 4,
 "nbformat_minor": 5
}
