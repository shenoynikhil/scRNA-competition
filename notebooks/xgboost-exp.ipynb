{
 "cells": [
  {
   "cell_type": "code",
   "execution_count": 8,
   "id": "2dd07995",
   "metadata": {},
   "outputs": [],
   "source": [
    "import xgboost as xgb"
   ]
  },
  {
   "cell_type": "code",
   "execution_count": 9,
   "id": "c3024d1e",
   "metadata": {},
   "outputs": [],
   "source": [
    "from catboost import CatBoostRegressor, metrics\n",
    "import numpy as np"
   ]
  },
  {
   "cell_type": "markdown",
   "id": "e89a056f",
   "metadata": {},
   "source": [
    "#### Imports"
   ]
  },
  {
   "cell_type": "code",
   "execution_count": 10,
   "id": "3965f1d1",
   "metadata": {
    "collapsed": true
   },
   "outputs": [],
   "source": [
    "import gc\n",
    "import pickle\n",
    "from datetime import datetime\n",
    "from os import makedirs\n",
    "from os.path import dirname, join\n",
    "from pathlib import Path\n",
    "\n",
    "import numpy as np\n",
    "import scipy\n",
    "import yaml\n",
    "from sklearn.decomposition import TruncatedSVD\n",
    "from sklearn.model_selection import KFold"
   ]
  },
  {
   "cell_type": "markdown",
   "id": "078aea60",
   "metadata": {},
   "source": [
    "#### Utils"
   ]
  },
  {
   "cell_type": "code",
   "execution_count": null,
   "id": "859522e6",
   "metadata": {},
   "outputs": [],
   "source": [
    "def gradient(predt: np.ndarray, dtrain: xgb.DMatrix) -> np.ndarray:\n",
    "    \"\"\"Compute the gradient squared error.\"\"\"\n",
    "    y = dtrain.get_label().reshape(predt.shape)\n",
    "    return (predt - y).reshape(y.size)\n",
    "\n",
    "def hessian(predt: np.ndarray, dtrain: xgb.DMatrix) -> np.ndarray:\n",
    "    \"\"\"Compute the hessian for squared error.\"\"\"\n",
    "    return np.ones(predt.shape).reshape(predt.size)\n",
    "\n",
    "def squared_log(predt, dtrain):\n",
    "    grad = gradient(predt, dtrain)\n",
    "    hess = hessian(predt, dtrain)\n",
    "    return grad, hess\n",
    "\n",
    "def correlation_score(y_true, y_pred):\n",
    "    \"\"\"Scores the predictions according to the competition rules.\n",
    "\n",
    "    It is assumed that the predictions are not constant.\n",
    "\n",
    "    Returns the average of each sample's Pearson correlation coefficient\n",
    "\n",
    "    Source: https://www.kaggle.com/code/xiafire/lb-t15-msci-multiome-catboostregressor#Predicting\n",
    "    \"\"\"\n",
    "    if y_true.shape != y_pred.shape:\n",
    "        raise ValueError(\"Shapes are different.\")\n",
    "    corrsum = 0\n",
    "    for i in range(len(y_true)):\n",
    "        corrsum += np.corrcoef(y_true[i], y_pred[i])[1, 0]\n",
    "    return corrsum / len(y_true)"
   ]
  },
  {
   "cell_type": "code",
   "execution_count": 11,
   "id": "73cebecc",
   "metadata": {},
   "outputs": [],
   "source": [
    "config = {\n",
    "    \"output_dir\": \"/scratch/st-jiaruid-1/shenoy/projects/scRNA-competition/output/krr-rbf-exp\",\n",
    "    \"paths\": {\n",
    "      \"x\": \"/scratch/st-jiaruid-1/shenoy/svd-comp/train_input_multiome_svd128.pkl\",\n",
    "      \"y\": \"/arc/project/st-jiaruid-1/yinian/multiome/sparse-data/train_multi_targets_values.sparse.npz\",\n",
    "      \"x_test\": \"/scratch/st-jiaruid-1/shenoy/svd-comp/test_input_multiome_svd128.pkl\"\n",
    "    },\n",
    "    \"seed\": 42\n",
    "}"
   ]
  },
  {
   "cell_type": "code",
   "execution_count": 12,
   "id": "5132d914",
   "metadata": {},
   "outputs": [
    {
     "name": "stdout",
     "output_type": "stream",
     "text": [
      "CPU times: user 2 µs, sys: 0 ns, total: 2 µs\n",
      "Wall time: 7.63 µs\n"
     ]
    }
   ],
   "source": [
    "# Load Data\n",
    "%time\n",
    "x_train_transformed = pickle.load(open(config[\"paths\"][\"x\"], \"rb\"))"
   ]
  },
  {
   "cell_type": "code",
   "execution_count": 13,
   "id": "893ffc48",
   "metadata": {},
   "outputs": [
    {
     "name": "stdout",
     "output_type": "stream",
     "text": [
      "CPU times: user 2 µs, sys: 0 ns, total: 2 µs\n",
      "Wall time: 4.53 µs\n"
     ]
    }
   ],
   "source": [
    "%time\n",
    "x_test_transformed = pickle.load(open(config[\"paths\"][\"x_test\"], \"rb\"))"
   ]
  },
  {
   "cell_type": "code",
   "execution_count": 14,
   "id": "f175688b",
   "metadata": {},
   "outputs": [
    {
     "name": "stdout",
     "output_type": "stream",
     "text": [
      "CPU times: user 2 µs, sys: 1 µs, total: 3 µs\n",
      "Wall time: 5.01 µs\n"
     ]
    }
   ],
   "source": [
    "%time\n",
    "y = scipy.sparse.load_npz(config[\"paths\"][\"y\"])"
   ]
  },
  {
   "cell_type": "code",
   "execution_count": 37,
   "id": "32b8ae28",
   "metadata": {},
   "outputs": [],
   "source": [
    "components = [50, 100, 150, 200, 250, 300]"
   ]
  },
  {
   "cell_type": "markdown",
   "id": "286035be",
   "metadata": {},
   "source": [
    "### What is the best y_components?"
   ]
  },
  {
   "cell_type": "code",
   "execution_count": 40,
   "id": "49e23f14",
   "metadata": {},
   "outputs": [],
   "source": [
    "from tqdm import tqdm "
   ]
  },
  {
   "cell_type": "code",
   "execution_count": 43,
   "id": "b04b3eb1",
   "metadata": {},
   "outputs": [
    {
     "name": "stderr",
     "output_type": "stream",
     "text": [
      "\r",
      "  0%|          | 0/6 [00:00<?, ?it/s]"
     ]
    },
    {
     "name": "stdout",
     "output_type": "stream",
     "text": [
      "Working on components: 50\n"
     ]
    },
    {
     "name": "stderr",
     "output_type": "stream",
     "text": [
      "\r",
      " 17%|█▋        | 1/6 [12:15<1:01:15, 735.08s/it]"
     ]
    },
    {
     "name": "stdout",
     "output_type": "stream",
     "text": [
      "Score for components: [50, 100, 150, 200, 250, 300] is 0.6715198414847497\n",
      "Working on components: 100\n"
     ]
    },
    {
     "name": "stderr",
     "output_type": "stream",
     "text": [
      "\r",
      " 33%|███▎      | 2/6 [37:54<1:20:32, 1208.14s/it]"
     ]
    },
    {
     "name": "stdout",
     "output_type": "stream",
     "text": [
      "Score for components: [50, 100, 150, 200, 250, 300] is 0.6726009848447322\n",
      "Working on components: 150\n"
     ]
    },
    {
     "name": "stderr",
     "output_type": "stream",
     "text": [
      "\r",
      " 50%|█████     | 3/6 [1:16:17<1:25:25, 1708.35s/it]"
     ]
    },
    {
     "name": "stdout",
     "output_type": "stream",
     "text": [
      "Score for components: [50, 100, 150, 200, 250, 300] is 0.6735511391011494\n",
      "Working on components: 200\n"
     ]
    },
    {
     "name": "stderr",
     "output_type": "stream",
     "text": [
      "\r",
      " 67%|██████▋   | 4/6 [2:09:37<1:16:33, 2297.00s/it]"
     ]
    },
    {
     "name": "stdout",
     "output_type": "stream",
     "text": [
      "Score for components: [50, 100, 150, 200, 250, 300] is 0.6744700897079666\n",
      "Working on components: 250\n"
     ]
    },
    {
     "name": "stderr",
     "output_type": "stream",
     "text": [
      "\r",
      " 83%|████████▎ | 5/6 [3:02:03<43:23, 2603.19s/it]  "
     ]
    },
    {
     "name": "stdout",
     "output_type": "stream",
     "text": [
      "Score for components: [50, 100, 150, 200, 250, 300] is 0.6753742106656241\n",
      "Working on components: 300\n"
     ]
    },
    {
     "name": "stderr",
     "output_type": "stream",
     "text": [
      "100%|██████████| 6/6 [4:05:07<00:00, 2451.17s/it]"
     ]
    },
    {
     "name": "stdout",
     "output_type": "stream",
     "text": [
      "Score for components: [50, 100, 150, 200, 250, 300] is 0.6762454049504814\n"
     ]
    },
    {
     "name": "stderr",
     "output_type": "stream",
     "text": [
      "\n"
     ]
    }
   ],
   "source": [
    "for component in tqdm(components):\n",
    "    print (f'Working on components: {component}')\n",
    "    pca_y = TruncatedSVD(\n",
    "        n_components=component,\n",
    "        random_state=config['seed'],\n",
    "    )\n",
    "    y_transformed = pca_y.fit_transform(y)\n",
    "    \n",
    "    Xy = xgb.DMatrix(x_train_transformed, y_transformed)\n",
    "    \n",
    "    booster = xgb.train(\n",
    "        {\n",
    "            \"tree_method\": \"hist\",\n",
    "            \"num_target\": y_transformed.shape[1],\n",
    "        },\n",
    "        dtrain=Xy,\n",
    "        num_boost_round=100,x\n",
    "        obj=squared_log,\n",
    "    )    \n",
    "    \n",
    "    score = correlation_score(\n",
    "        y.toarray(), \n",
    "        booster.inplace_predict(x_train_transformed) @ pca_y.components_\n",
    "    )\n",
    "    print (f'Score for components: {components} is {score}')"
   ]
  },
  {
   "cell_type": "code",
   "execution_count": null,
   "id": "b729dc2d",
   "metadata": {},
   "outputs": [],
   "source": []
  },
  {
   "cell_type": "markdown",
   "id": "fe37fef9",
   "metadata": {},
   "source": [
    "#### Objectives for XGBoost"
   ]
  },
  {
   "cell_type": "code",
   "execution_count": null,
   "id": "b550efd6",
   "metadata": {},
   "outputs": [],
   "source": []
  },
  {
   "cell_type": "code",
   "execution_count": null,
   "id": "af309e4a",
   "metadata": {},
   "outputs": [],
   "source": []
  },
  {
   "cell_type": "code",
   "execution_count": null,
   "id": "9b83beb7",
   "metadata": {},
   "outputs": [],
   "source": []
  },
  {
   "cell_type": "code",
   "execution_count": null,
   "id": "7a673749",
   "metadata": {},
   "outputs": [],
   "source": []
  },
  {
   "cell_type": "code",
   "execution_count": null,
   "id": "7105bdbf",
   "metadata": {},
   "outputs": [],
   "source": []
  }
 ],
 "metadata": {
  "kernelspec": {
   "display_name": "gpu",
   "language": "python",
   "name": "gpu"
  },
  "language_info": {
   "codemirror_mode": {
    "name": "ipython",
    "version": 3
   },
   "file_extension": ".py",
   "mimetype": "text/x-python",
   "name": "python",
   "nbconvert_exporter": "python",
   "pygments_lexer": "ipython3",
   "version": "3.9.13"
  }
 },
 "nbformat": 4,
 "nbformat_minor": 5
}
